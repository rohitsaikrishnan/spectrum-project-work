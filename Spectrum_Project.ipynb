{
  "nbformat": 4,
  "nbformat_minor": 0,
  "metadata": {
    "colab": {
      "name": "Spectrum Project.ipynb",
      "provenance": [],
      "authorship_tag": "ABX9TyMPUthVz2fbs2senisbGvtx",
      "include_colab_link": true
    },
    "kernelspec": {
      "name": "python3",
      "display_name": "Python 3"
    }
  },
  "cells": [
    {
      "cell_type": "markdown",
      "metadata": {
        "id": "view-in-github",
        "colab_type": "text"
      },
      "source": [
        "<a href=\"https://colab.research.google.com/github/rohitsaikrishnan/spectrum-project-work/blob/master/Spectrum_Project.ipynb\" target=\"_parent\"><img src=\"https://colab.research.google.com/assets/colab-badge.svg\" alt=\"Open In Colab\"/></a>"
      ]
    },
    {
      "cell_type": "code",
      "metadata": {
        "id": "gZJqTDcLtnHX",
        "colab_type": "code",
        "outputId": "52bca1b3-4a53-4c0b-a406-eb00460db619",
        "colab": {
          "base_uri": "https://localhost:8080/",
          "height": 34
        }
      },
      "source": [
        "!pip3 install py-chan-api"
      ],
      "execution_count": 1,
      "outputs": [
        {
          "output_type": "stream",
          "text": [
            "Requirement already satisfied: py-chan-api in /usr/local/lib/python3.6/dist-packages (0.1.3)\n"
          ],
          "name": "stdout"
        }
      ]
    },
    {
      "cell_type": "code",
      "metadata": {
        "id": "aG__sqZJ2FwK",
        "colab_type": "code",
        "outputId": "a0b55662-345e-4efe-9f60-6df132f462c4",
        "colab": {
          "base_uri": "https://localhost:8080/",
          "height": 101
        }
      },
      "source": [
        "!pip3 install requests"
      ],
      "execution_count": 2,
      "outputs": [
        {
          "output_type": "stream",
          "text": [
            "Requirement already satisfied: requests in /usr/local/lib/python3.6/dist-packages (2.23.0)\n",
            "Requirement already satisfied: certifi>=2017.4.17 in /usr/local/lib/python3.6/dist-packages (from requests) (2020.4.5.1)\n",
            "Requirement already satisfied: urllib3!=1.25.0,!=1.25.1,<1.26,>=1.21.1 in /usr/local/lib/python3.6/dist-packages (from requests) (1.24.3)\n",
            "Requirement already satisfied: chardet<4,>=3.0.2 in /usr/local/lib/python3.6/dist-packages (from requests) (3.0.4)\n",
            "Requirement already satisfied: idna<3,>=2.5 in /usr/local/lib/python3.6/dist-packages (from requests) (2.9)\n"
          ],
          "name": "stdout"
        }
      ]
    },
    {
      "cell_type": "code",
      "metadata": {
        "id": "Cg0_TYFY5D5d",
        "colab_type": "code",
        "outputId": "bf9abba7-1feb-4396-af5d-c0212c5937d3",
        "colab": {
          "base_uri": "https://localhost:8080/",
          "height": 34
        }
      },
      "source": [
        "'''\n",
        "Extracting/Cleaning Data\n",
        "'''"
      ],
      "execution_count": 3,
      "outputs": [
        {
          "output_type": "execute_result",
          "data": {
            "text/plain": [
              "'\\nExtracting/Cleaning Data\\n'"
            ]
          },
          "metadata": {
            "tags": []
          },
          "execution_count": 3
        }
      ]
    },
    {
      "cell_type": "code",
      "metadata": {
        "id": "gW6s3RGLt0XC",
        "colab_type": "code",
        "outputId": "242fa18e-f7cb-436e-acca-1c6a88415b0c",
        "colab": {
          "base_uri": "https://localhost:8080/",
          "height": 1000
        }
      },
      "source": [
        "import pychan\n",
        "import requests\n",
        "import json\n",
        "import re\n",
        "\n",
        "# pychan infers what type of object you're giving it. See the above table.\n",
        "# Whether its a string pointing to a file/dict/dict in string format.\n",
        "thredlist = requests.get('https://a.4cdn.org/lit/threads.json')\n",
        "\n",
        "print (thredlist.text)\n",
        "json_data = json.loads(thredlist.text)\n",
        "\n",
        "threadList      = pychan.FourChan(json_data)\n",
        "\n",
        "literature_thread_list = []\n",
        "page_no = 0\n",
        "while len(literature_thread_list) <= 100:\n",
        "  for i in threadList.page[page_no].threads:\n",
        "    literature_thread_list.append(i.no)\n",
        "  page_no = page_no + 1\n",
        "print (len(literature_thread_list))\n",
        "\n",
        "literature_comments = []\n",
        "messages_each_thread_literature = []\n",
        "for i in range(len(literature_thread_list)):\n",
        "  thread_URL = 'https://a.4cdn.org/lit/thread/' + str(literature_thread_list[i]) +'.json'\n",
        "  print (thread_URL)\n",
        "  extract = requests.get(thread_URL)\n",
        "  json_data = json.loads(extract.text)\n",
        "  postslist = pychan.FourChan(json_data)\n",
        "  no_of_messages = 0\n",
        "  for post in postslist.posts:\n",
        "    try:\n",
        "      clean = re.compile('<.*?>')\n",
        "      comment = re.sub(clean, '', post.com)\n",
        "      clean2 = re.compile('&gt;')\n",
        "      comment = re.sub(clean2, '', comment)\n",
        "      clean3 = re.compile('&#039;')\n",
        "      comment = re.sub(clean3, '', comment)\n",
        "      comment = comment.lstrip('0123456789.- ')\n",
        "      no_of_messages = no_of_messages + 1\n",
        "      literature_comments.append(comment)\n",
        "      \n",
        "    except:\n",
        "      continue\n",
        "  messages_each_thread_literature.append(no_of_messages)\n",
        "for i in range(20):\n",
        "  print(literature_comments[i])\n",
        "\n",
        "\n",
        "\n"
      ],
      "execution_count": 4,
      "outputs": [
        {
          "output_type": "stream",
          "text": [
            "[{\"page\":1,\"threads\":[{\"no\":11931854,\"last_modified\":1539537998,\"replies\":0},{\"no\":15331678,\"last_modified\":1589176653,\"replies\":2},{\"no\":15331620,\"last_modified\":1589176623,\"replies\":2},{\"no\":15318368,\"last_modified\":1589176611,\"replies\":128},{\"no\":15329675,\"last_modified\":1589176573,\"replies\":19},{\"no\":15321036,\"last_modified\":1589176565,\"replies\":229},{\"no\":15325652,\"last_modified\":1589176520,\"replies\":86},{\"no\":15331795,\"last_modified\":1589176500,\"replies\":10},{\"no\":15321162,\"last_modified\":1589176457,\"replies\":55},{\"no\":15330451,\"last_modified\":1589176447,\"replies\":13},{\"no\":15331564,\"last_modified\":1589176429,\"replies\":4},{\"no\":15331874,\"last_modified\":1589176393,\"replies\":0},{\"no\":15328833,\"last_modified\":1589176389,\"replies\":24},{\"no\":15329388,\"last_modified\":1589176377,\"replies\":9},{\"no\":15329410,\"last_modified\":1589176361,\"replies\":9}]},{\"page\":2,\"threads\":[{\"no\":15328695,\"last_modified\":1589176354,\"replies\":70},{\"no\":15331205,\"last_modified\":1589176347,\"replies\":10},{\"no\":15327112,\"last_modified\":1589176337,\"replies\":18},{\"no\":15331642,\"last_modified\":1589176335,\"replies\":8},{\"no\":15329994,\"last_modified\":1589176273,\"replies\":12},{\"no\":15331310,\"last_modified\":1589176249,\"replies\":9},{\"no\":15330314,\"last_modified\":1589176220,\"replies\":25},{\"no\":15326526,\"last_modified\":1589176308,\"replies\":55},{\"no\":15329448,\"last_modified\":1589176169,\"replies\":39},{\"no\":15330791,\"last_modified\":1589176157,\"replies\":29},{\"no\":15331389,\"last_modified\":1589176146,\"replies\":21},{\"no\":15328729,\"last_modified\":1589176116,\"replies\":26},{\"no\":15330953,\"last_modified\":1589176114,\"replies\":15},{\"no\":15330055,\"last_modified\":1589176086,\"replies\":12},{\"no\":15329251,\"last_modified\":1589176069,\"replies\":45}]},{\"page\":3,\"threads\":[{\"no\":15331175,\"last_modified\":1589176066,\"replies\":2},{\"no\":15331820,\"last_modified\":1589175960,\"replies\":1},{\"no\":15331212,\"last_modified\":1589175951,\"replies\":10},{\"no\":15331551,\"last_modified\":1589175859,\"replies\":21},{\"no\":15326127,\"last_modified\":1589175811,\"replies\":52},{\"no\":15322993,\"last_modified\":1589175656,\"replies\":202},{\"no\":15328067,\"last_modified\":1589175646,\"replies\":126},{\"no\":15319482,\"last_modified\":1589175568,\"replies\":134},{\"no\":15325012,\"last_modified\":1589175552,\"replies\":40},{\"no\":15331337,\"last_modified\":1589175511,\"replies\":3},{\"no\":15330002,\"last_modified\":1589175508,\"replies\":18},{\"no\":15331803,\"last_modified\":1589175472,\"replies\":0},{\"no\":15328373,\"last_modified\":1589175443,\"replies\":30},{\"no\":15330775,\"last_modified\":1589175300,\"replies\":57},{\"no\":15331754,\"last_modified\":1589175460,\"replies\":5}]},{\"page\":4,\"threads\":[{\"no\":15329651,\"last_modified\":1589175263,\"replies\":13},{\"no\":15330027,\"last_modified\":1589175279,\"replies\":4},{\"no\":15331743,\"last_modified\":1589175101,\"replies\":1},{\"no\":15330514,\"last_modified\":1589174777,\"replies\":1},{\"no\":15331744,\"last_modified\":1589174718,\"replies\":0},{\"no\":15328167,\"last_modified\":1589174682,\"replies\":12},{\"no\":15329228,\"last_modified\":1589174588,\"replies\":19},{\"no\":15312593,\"last_modified\":1589174515,\"replies\":222},{\"no\":15328264,\"last_modified\":1589174468,\"replies\":25},{\"no\":15326646,\"last_modified\":1589174391,\"replies\":22},{\"no\":15326599,\"last_modified\":1589174287,\"replies\":66},{\"no\":15323522,\"last_modified\":1589174260,\"replies\":82},{\"no\":15329857,\"last_modified\":1589174244,\"replies\":4},{\"no\":15329065,\"last_modified\":1589174234,\"replies\":23},{\"no\":15331684,\"last_modified\":1589174095,\"replies\":1}]},{\"page\":5,\"threads\":[{\"no\":15325379,\"last_modified\":1589174086,\"replies\":202},{\"no\":15325716,\"last_modified\":1589173957,\"replies\":109},{\"no\":15328596,\"last_modified\":1589173936,\"replies\":47},{\"no\":15329786,\"last_modified\":1589173895,\"replies\":8},{\"no\":15323640,\"last_modified\":1589173756,\"replies\":31},{\"no\":15331347,\"last_modified\":1589173685,\"replies\":2},{\"no\":15331584,\"last_modified\":1589173476,\"replies\":6},{\"no\":15322411,\"last_modified\":1589173447,\"replies\":133},{\"no\":15331194,\"last_modified\":1589173290,\"replies\":2},{\"no\":15330450,\"last_modified\":1589173273,\"replies\":4},{\"no\":15330815,\"last_modified\":1589173229,\"replies\":11},{\"no\":15329392,\"last_modified\":1589173106,\"replies\":15},{\"no\":15331588,\"last_modified\":1589173080,\"replies\":2},{\"no\":15329982,\"last_modified\":1589172923,\"replies\":25},{\"no\":15329535,\"last_modified\":1589172915,\"replies\":31}]},{\"page\":6,\"threads\":[{\"no\":15323312,\"last_modified\":1589172856,\"replies\":61},{\"no\":15328968,\"last_modified\":1589172705,\"replies\":6},{\"no\":15330162,\"last_modified\":1589172667,\"replies\":56},{\"no\":15330347,\"last_modified\":1589172620,\"replies\":9},{\"no\":15329824,\"last_modified\":1589172549,\"replies\":3},{\"no\":15331342,\"last_modified\":1589172547,\"replies\":3},{\"no\":15324727,\"last_modified\":1589172546,\"replies\":44},{\"no\":15330668,\"last_modified\":1589172164,\"replies\":15},{\"no\":15324444,\"last_modified\":1589172125,\"replies\":46},{\"no\":15329596,\"last_modified\":1589172050,\"replies\":9},{\"no\":15331494,\"last_modified\":1589172002,\"replies\":0},{\"no\":15328034,\"last_modified\":1589171997,\"replies\":27},{\"no\":15330578,\"last_modified\":1589171927,\"replies\":2},{\"no\":15331362,\"last_modified\":1589171791,\"replies\":9},{\"no\":15319220,\"last_modified\":1589174764,\"replies\":256}]},{\"page\":7,\"threads\":[{\"no\":15325420,\"last_modified\":1589171663,\"replies\":28},{\"no\":15331434,\"last_modified\":1589171354,\"replies\":0},{\"no\":15329324,\"last_modified\":1589171063,\"replies\":12},{\"no\":15329349,\"last_modified\":1589170930,\"replies\":17},{\"no\":15329821,\"last_modified\":1589170905,\"replies\":62},{\"no\":15327773,\"last_modified\":1589170695,\"replies\":11},{\"no\":15331208,\"last_modified\":1589170667,\"replies\":5},{\"no\":15325884,\"last_modified\":1589170572,\"replies\":208},{\"no\":15329176,\"last_modified\":1589170536,\"replies\":32},{\"no\":15331289,\"last_modified\":1589170412,\"replies\":1},{\"no\":15331012,\"last_modified\":1589170346,\"replies\":5},{\"no\":15331312,\"last_modified\":1589170122,\"replies\":1},{\"no\":15327071,\"last_modified\":1589170031,\"replies\":6},{\"no\":15331254,\"last_modified\":1589169962,\"replies\":2},{\"no\":15331083,\"last_modified\":1589169688,\"replies\":6}]},{\"page\":8,\"threads\":[{\"no\":15327977,\"last_modified\":1589169675,\"replies\":8},{\"no\":15327322,\"last_modified\":1589169654,\"replies\":27},{\"no\":15329640,\"last_modified\":1589169625,\"replies\":58},{\"no\":15331236,\"last_modified\":1589169293,\"replies\":0},{\"no\":15330218,\"last_modified\":1589169410,\"replies\":7},{\"no\":15329604,\"last_modified\":1589168916,\"replies\":5},{\"no\":15330093,\"last_modified\":1589168847,\"replies\":12},{\"no\":15330500,\"last_modified\":1589168729,\"replies\":19},{\"no\":15329788,\"last_modified\":1589168390,\"replies\":7},{\"no\":15331127,\"last_modified\":1589168366,\"replies\":0},{\"no\":15330750,\"last_modified\":1589168310,\"replies\":7},{\"no\":15331118,\"last_modified\":1589168301,\"replies\":0},{\"no\":15329254,\"last_modified\":1589168130,\"replies\":31},{\"no\":15329301,\"last_modified\":1589167833,\"replies\":12},{\"no\":15330164,\"last_modified\":1589167448,\"replies\":6}]},{\"page\":9,\"threads\":[{\"no\":15330504,\"last_modified\":1589168634,\"replies\":26},{\"no\":15327739,\"last_modified\":1589167065,\"replies\":10},{\"no\":15327542,\"last_modified\":1589167046,\"replies\":17},{\"no\":15323869,\"last_modified\":1589166921,\"replies\":38},{\"no\":15329804,\"last_modified\":1589166651,\"replies\":47},{\"no\":15330781,\"last_modified\":1589166526,\"replies\":2},{\"no\":15329606,\"last_modified\":1589167354,\"replies\":5},{\"no\":15330169,\"last_modified\":1589167213,\"replies\":9},{\"no\":15330183,\"last_modified\":1589166298,\"replies\":3},{\"no\":15330527,\"last_modified\":1589166201,\"replies\":7},{\"no\":15330887,\"last_modified\":1589166189,\"replies\":0},{\"no\":15329808,\"last_modified\":1589165948,\"replies\":5},{\"no\":15330697,\"last_modified\":1589165827,\"replies\":5},{\"no\":15330561,\"last_modified\":1589165614,\"replies\":5},{\"no\":15322989,\"last_modified\":1589165495,\"replies\":56}]},{\"page\":10,\"threads\":[{\"no\":15330635,\"last_modified\":1589165077,\"replies\":1},{\"no\":15330620,\"last_modified\":1589164727,\"replies\":3},{\"no\":15327308,\"last_modified\":1589164365,\"replies\":205},{\"no\":15328281,\"last_modified\":1589164304,\"replies\":16},{\"no\":15326962,\"last_modified\":1589163966,\"replies\":28},{\"no\":15330593,\"last_modified\":1589163912,\"replies\":2},{\"no\":15330416,\"last_modified\":1589163519,\"replies\":3},{\"no\":15328834,\"last_modified\":1589163329,\"replies\":10},{\"no\":15330521,\"last_modified\":1589163383,\"replies\":8},{\"no\":15329432,\"last_modified\":1589162957,\"replies\":11},{\"no\":15329256,\"last_modified\":1589162844,\"replies\":4},{\"no\":15330440,\"last_modified\":1589162709,\"replies\":2},{\"no\":15320667,\"last_modified\":1589162633,\"replies\":116},{\"no\":15329919,\"last_modified\":1589162511,\"replies\":7},{\"no\":15328585,\"last_modified\":1589162347,\"replies\":15}]},{\"page\":11,\"threads\":[{\"no\":15330378,\"last_modified\":1589162243,\"replies\":7}]}]\n",
            "105\n",
            "https://a.4cdn.org/lit/thread/11931854.json\n",
            "https://a.4cdn.org/lit/thread/15331678.json\n",
            "https://a.4cdn.org/lit/thread/15331620.json\n",
            "https://a.4cdn.org/lit/thread/15318368.json\n",
            "https://a.4cdn.org/lit/thread/15329675.json\n",
            "https://a.4cdn.org/lit/thread/15321036.json\n",
            "https://a.4cdn.org/lit/thread/15325652.json\n",
            "https://a.4cdn.org/lit/thread/15331795.json\n",
            "https://a.4cdn.org/lit/thread/15321162.json\n",
            "https://a.4cdn.org/lit/thread/15330451.json\n",
            "https://a.4cdn.org/lit/thread/15331564.json\n",
            "https://a.4cdn.org/lit/thread/15331874.json\n",
            "https://a.4cdn.org/lit/thread/15328833.json\n",
            "https://a.4cdn.org/lit/thread/15329388.json\n",
            "https://a.4cdn.org/lit/thread/15329410.json\n",
            "https://a.4cdn.org/lit/thread/15328695.json\n",
            "https://a.4cdn.org/lit/thread/15331205.json\n",
            "https://a.4cdn.org/lit/thread/15327112.json\n",
            "https://a.4cdn.org/lit/thread/15331642.json\n",
            "https://a.4cdn.org/lit/thread/15329994.json\n",
            "https://a.4cdn.org/lit/thread/15331310.json\n",
            "https://a.4cdn.org/lit/thread/15330314.json\n",
            "https://a.4cdn.org/lit/thread/15326526.json\n",
            "https://a.4cdn.org/lit/thread/15329448.json\n",
            "https://a.4cdn.org/lit/thread/15330791.json\n",
            "https://a.4cdn.org/lit/thread/15331389.json\n",
            "https://a.4cdn.org/lit/thread/15328729.json\n",
            "https://a.4cdn.org/lit/thread/15330953.json\n",
            "https://a.4cdn.org/lit/thread/15330055.json\n",
            "https://a.4cdn.org/lit/thread/15329251.json\n",
            "https://a.4cdn.org/lit/thread/15331175.json\n",
            "https://a.4cdn.org/lit/thread/15331820.json\n",
            "https://a.4cdn.org/lit/thread/15331212.json\n",
            "https://a.4cdn.org/lit/thread/15331551.json\n",
            "https://a.4cdn.org/lit/thread/15326127.json\n",
            "https://a.4cdn.org/lit/thread/15322993.json\n",
            "https://a.4cdn.org/lit/thread/15328067.json\n",
            "https://a.4cdn.org/lit/thread/15319482.json\n",
            "https://a.4cdn.org/lit/thread/15325012.json\n",
            "https://a.4cdn.org/lit/thread/15331337.json\n",
            "https://a.4cdn.org/lit/thread/15330002.json\n",
            "https://a.4cdn.org/lit/thread/15331803.json\n",
            "https://a.4cdn.org/lit/thread/15328373.json\n",
            "https://a.4cdn.org/lit/thread/15330775.json\n",
            "https://a.4cdn.org/lit/thread/15331754.json\n",
            "https://a.4cdn.org/lit/thread/15329651.json\n",
            "https://a.4cdn.org/lit/thread/15330027.json\n",
            "https://a.4cdn.org/lit/thread/15331743.json\n",
            "https://a.4cdn.org/lit/thread/15330514.json\n",
            "https://a.4cdn.org/lit/thread/15331744.json\n",
            "https://a.4cdn.org/lit/thread/15328167.json\n",
            "https://a.4cdn.org/lit/thread/15329228.json\n",
            "https://a.4cdn.org/lit/thread/15312593.json\n",
            "https://a.4cdn.org/lit/thread/15328264.json\n",
            "https://a.4cdn.org/lit/thread/15326646.json\n",
            "https://a.4cdn.org/lit/thread/15326599.json\n",
            "https://a.4cdn.org/lit/thread/15323522.json\n",
            "https://a.4cdn.org/lit/thread/15329857.json\n",
            "https://a.4cdn.org/lit/thread/15329065.json\n",
            "https://a.4cdn.org/lit/thread/15331684.json\n",
            "https://a.4cdn.org/lit/thread/15325379.json\n",
            "https://a.4cdn.org/lit/thread/15325716.json\n",
            "https://a.4cdn.org/lit/thread/15328596.json\n",
            "https://a.4cdn.org/lit/thread/15329786.json\n",
            "https://a.4cdn.org/lit/thread/15323640.json\n",
            "https://a.4cdn.org/lit/thread/15331347.json\n",
            "https://a.4cdn.org/lit/thread/15331584.json\n",
            "https://a.4cdn.org/lit/thread/15322411.json\n",
            "https://a.4cdn.org/lit/thread/15331194.json\n",
            "https://a.4cdn.org/lit/thread/15330450.json\n",
            "https://a.4cdn.org/lit/thread/15330815.json\n",
            "https://a.4cdn.org/lit/thread/15329392.json\n",
            "https://a.4cdn.org/lit/thread/15331588.json\n",
            "https://a.4cdn.org/lit/thread/15329982.json\n",
            "https://a.4cdn.org/lit/thread/15329535.json\n",
            "https://a.4cdn.org/lit/thread/15323312.json\n",
            "https://a.4cdn.org/lit/thread/15328968.json\n",
            "https://a.4cdn.org/lit/thread/15330162.json\n",
            "https://a.4cdn.org/lit/thread/15330347.json\n",
            "https://a.4cdn.org/lit/thread/15329824.json\n",
            "https://a.4cdn.org/lit/thread/15331342.json\n",
            "https://a.4cdn.org/lit/thread/15324727.json\n",
            "https://a.4cdn.org/lit/thread/15330668.json\n",
            "https://a.4cdn.org/lit/thread/15324444.json\n",
            "https://a.4cdn.org/lit/thread/15329596.json\n",
            "https://a.4cdn.org/lit/thread/15331494.json\n",
            "https://a.4cdn.org/lit/thread/15328034.json\n",
            "https://a.4cdn.org/lit/thread/15330578.json\n",
            "https://a.4cdn.org/lit/thread/15331362.json\n",
            "https://a.4cdn.org/lit/thread/15319220.json\n",
            "https://a.4cdn.org/lit/thread/15325420.json\n",
            "https://a.4cdn.org/lit/thread/15331434.json\n",
            "https://a.4cdn.org/lit/thread/15329324.json\n",
            "https://a.4cdn.org/lit/thread/15329349.json\n",
            "https://a.4cdn.org/lit/thread/15329821.json\n",
            "https://a.4cdn.org/lit/thread/15327773.json\n",
            "https://a.4cdn.org/lit/thread/15331208.json\n",
            "https://a.4cdn.org/lit/thread/15325884.json\n",
            "https://a.4cdn.org/lit/thread/15329176.json\n",
            "https://a.4cdn.org/lit/thread/15331289.json\n",
            "https://a.4cdn.org/lit/thread/15331012.json\n",
            "https://a.4cdn.org/lit/thread/15331312.json\n",
            "https://a.4cdn.org/lit/thread/15327071.json\n",
            "https://a.4cdn.org/lit/thread/15331254.json\n",
            "https://a.4cdn.org/lit/thread/15331083.json\n",
            "/lit/ is for the discussion of literature, specifically books (fiction &amp; non-fiction), short stories, poetry, creative writing, etc. If you want to discuss history, religion, or the humanities, go to /his/. If you want to discuss politics, go to /pol/. Philosophical discussion can go on either /lit/ or /his/, but those discussions of philosophy that take place on /lit/ should be based around specific philosophical works to which posters can refer.Check the wiki, the catalog, and the archive before asking for advice or recommendations, and please refrain from starting new threads for questions that can be answered by a search engine./lit/ is a slow board! Please take the time to read what others have written, and try to make thoughtful, well-written posts of your own. Bump replies are not necessary.Looking for books online? Check here:Guide to #bookzhttps://www.geocities.ws/prissy_90/Media/Texts/BookzHelp19kb.htmBookzzhttp://b-ok.org/Recommended Literaturehttp://4chanlit.wikia.com/wiki/Recommended_Reading\n",
            "How do I go about writing a philosophy book?Do I have to become a hermit and live in a cave for a long time in order to come up with new ideas?Is there even anything interesting left to say in philosophy?\n",
            "At some point philosophers gave up. All modern philosophy is just people trying to bullshit each other and all ancient philosophy would have been seen as stupid stoner gibberish by those same esteemed academics if they were not dependent on as the foundation of legitimacy the modern philosophers use to justify sucking their own dicks.So basically if you come up with anything it will be ridiculed unless its convoluted enough everyone will have to pretend they understand it to avoid exposing themselves.\n",
            "Defeat 27 samurai in armed combat\n",
            "I need MORE i have become obsessed with this guy &amp; his Ideas what other writers wrote about things like this YES call me a edge faggot last to the game i dont care i just need more of Kaczynskihttps://www.youtube.com/watch?v=ssa_np-fTSk\n",
            "Read ellul\n",
            "Pentti Linkola\n",
            "What the fuck is wrong with them? Are they a joke publisher?\n",
            "They scare the plebs away\n",
            "Nailed it\n",
            "I only buy Illustrated Platinum Editions, sorry.\n",
            "This has to be a joke lmao\n",
            "based\n",
            "what do you think the Ancient Greeks would have thought of Schwarzenegger\n",
            "\n",
            "kek\n",
            "\n",
            "There are so many, and theyre so bad.http://wordsworthclassics.com/collections/classics\n",
            "WTF\n",
            "that looks like gay eroticastraight up\n"
          ],
          "name": "stdout"
        }
      ]
    },
    {
      "cell_type": "code",
      "metadata": {
        "id": "MLHs26JSPGO7",
        "colab_type": "code",
        "outputId": "3ac893a5-2a3a-4ad9-b08a-2bea65908b9d",
        "colab": {
          "base_uri": "https://localhost:8080/",
          "height": 1000
        }
      },
      "source": [
        "thredlist = requests.get('https://a.4cdn.org/g/threads.json')\n",
        "\n",
        "print (thredlist.text)\n",
        "json_data = json.loads(thredlist.text)\n",
        "\n",
        "threadList      = pychan.FourChan(json_data)\n",
        "\n",
        "technology_thread_list = []\n",
        "page_no = 0\n",
        "while len(technology_thread_list) <= 100:\n",
        "  for i in threadList.page[page_no].threads:\n",
        "    technology_thread_list.append(i.no)\n",
        "  page_no = page_no + 1\n",
        "print (len(technology_thread_list))\n",
        "\n",
        "technology_comments = []\n",
        "messages_each_thread_technology=[]\n",
        "for i in range(len(technology_thread_list)):\n",
        "  thread_URL = 'https://a.4cdn.org/g/thread/' + str(technology_thread_list[i]) +'.json'\n",
        "  print (thread_URL)\n",
        "  extract = requests.get(thread_URL)\n",
        "  json_data = json.loads(extract.text)\n",
        "  postslist = pychan.FourChan(json_data)\n",
        "  no_of_messages = 0\n",
        "  for post in postslist.posts:\n",
        "    try:\n",
        "      clean = re.compile('<.*?>')\n",
        "      comment = re.sub(clean, '', post.com)\n",
        "      clean2 = re.compile('&gt;')\n",
        "      comment = re.sub(clean2, '', comment)\n",
        "      clean3 = re.compile('&#039;')\n",
        "      comment = re.sub(clean3, '', comment)\n",
        "      comment = comment.lstrip('0123456789.- ')\n",
        "      no_of_messages = no_of_messages + 1\n",
        "      technology_comments.append(comment)\n",
        "      \n",
        "    except:\n",
        "      continue\n",
        "  messages_each_thread_technology.append(no_of_messages)\n",
        "for i in range(20):\n",
        "  print(technology_comments[i])"
      ],
      "execution_count": 5,
      "outputs": [
        {
          "output_type": "stream",
          "text": [
            "[{\"page\":1,\"threads\":[{\"no\":51971506,\"last_modified\":1576181967,\"replies\":1},{\"no\":75837095,\"last_modified\":1589176687,\"replies\":69},{\"no\":75841134,\"last_modified\":1589176678,\"replies\":138},{\"no\":75845613,\"last_modified\":1589176671,\"replies\":264},{\"no\":75848322,\"last_modified\":1589176654,\"replies\":102},{\"no\":75847296,\"last_modified\":1589176646,\"replies\":274},{\"no\":75851738,\"last_modified\":1589176641,\"replies\":17},{\"no\":75852112,\"last_modified\":1589176636,\"replies\":2},{\"no\":75847866,\"last_modified\":1589176633,\"replies\":159},{\"no\":75851909,\"last_modified\":1589176619,\"replies\":2},{\"no\":75851744,\"last_modified\":1589176637,\"replies\":18},{\"no\":75850075,\"last_modified\":1589176593,\"replies\":72},{\"no\":75851090,\"last_modified\":1589176594,\"replies\":44},{\"no\":75852160,\"last_modified\":1589176582,\"replies\":0},{\"no\":75851650,\"last_modified\":1589176563,\"replies\":11}]},{\"page\":2,\"threads\":[{\"no\":75836575,\"last_modified\":1589176562,\"replies\":173},{\"no\":75851989,\"last_modified\":1589176549,\"replies\":5},{\"no\":75852129,\"last_modified\":1589176531,\"replies\":1},{\"no\":75841588,\"last_modified\":1589176491,\"replies\":88},{\"no\":75843692,\"last_modified\":1589176489,\"replies\":109},{\"no\":75852145,\"last_modified\":1589176467,\"replies\":0},{\"no\":75840382,\"last_modified\":1589176502,\"replies\":155},{\"no\":75840171,\"last_modified\":1589176393,\"replies\":164},{\"no\":75847546,\"last_modified\":1589176370,\"replies\":29},{\"no\":75848912,\"last_modified\":1589176365,\"replies\":17},{\"no\":75840484,\"last_modified\":1589176327,\"replies\":159},{\"no\":75841179,\"last_modified\":1589176284,\"replies\":278},{\"no\":75847685,\"last_modified\":1589176275,\"replies\":60},{\"no\":75851392,\"last_modified\":1589176271,\"replies\":6},{\"no\":75843730,\"last_modified\":1589176169,\"replies\":41}]},{\"page\":3,\"threads\":[{\"no\":75845537,\"last_modified\":1589176165,\"replies\":125},{\"no\":75846769,\"last_modified\":1589176146,\"replies\":61},{\"no\":75850836,\"last_modified\":1589176136,\"replies\":6},{\"no\":75852066,\"last_modified\":1589176139,\"replies\":2},{\"no\":75851204,\"last_modified\":1589176061,\"replies\":15},{\"no\":75850770,\"last_modified\":1589176044,\"replies\":36},{\"no\":75844423,\"last_modified\":1589176028,\"replies\":72},{\"no\":75843534,\"last_modified\":1589176001,\"replies\":168},{\"no\":75846857,\"last_modified\":1589175958,\"replies\":12},{\"no\":75849102,\"last_modified\":1589176431,\"replies\":44},{\"no\":75851564,\"last_modified\":1589175925,\"replies\":13},{\"no\":75844086,\"last_modified\":1589175865,\"replies\":23},{\"no\":75851688,\"last_modified\":1589175864,\"replies\":6},{\"no\":75852044,\"last_modified\":1589176052,\"replies\":3},{\"no\":75846176,\"last_modified\":1589175815,\"replies\":52}]},{\"page\":4,\"threads\":[{\"no\":75851891,\"last_modified\":1589175753,\"replies\":8},{\"no\":75851951,\"last_modified\":1589175731,\"replies\":2},{\"no\":75843209,\"last_modified\":1589175657,\"replies\":148},{\"no\":75851707,\"last_modified\":1589175649,\"replies\":1},{\"no\":75848866,\"last_modified\":1589175644,\"replies\":27},{\"no\":75846280,\"last_modified\":1589175613,\"replies\":32},{\"no\":75847209,\"last_modified\":1589175604,\"replies\":14},{\"no\":75847980,\"last_modified\":1589175588,\"replies\":118},{\"no\":75838850,\"last_modified\":1589175441,\"replies\":295},{\"no\":75849075,\"last_modified\":1589175427,\"replies\":30},{\"no\":75840096,\"last_modified\":1589175401,\"replies\":73},{\"no\":75850366,\"last_modified\":1589175392,\"replies\":3},{\"no\":75851422,\"last_modified\":1589176531,\"replies\":23},{\"no\":75851597,\"last_modified\":1589175294,\"replies\":6},{\"no\":75850768,\"last_modified\":1589175277,\"replies\":5}]},{\"page\":5,\"threads\":[{\"no\":75842404,\"last_modified\":1589175248,\"replies\":57},{\"no\":75847641,\"last_modified\":1589175244,\"replies\":74},{\"no\":75824136,\"last_modified\":1589175174,\"replies\":262},{\"no\":75851828,\"last_modified\":1589175131,\"replies\":5},{\"no\":75851795,\"last_modified\":1589175128,\"replies\":1},{\"no\":75851942,\"last_modified\":1589175113,\"replies\":0},{\"no\":75846504,\"last_modified\":1589175109,\"replies\":17},{\"no\":75850513,\"last_modified\":1589175075,\"replies\":33},{\"no\":75849631,\"last_modified\":1589175043,\"replies\":11},{\"no\":75836486,\"last_modified\":1589174988,\"replies\":68},{\"no\":75850350,\"last_modified\":1589174973,\"replies\":21},{\"no\":75849235,\"last_modified\":1589174941,\"replies\":16},{\"no\":75850852,\"last_modified\":1589174928,\"replies\":16},{\"no\":75851584,\"last_modified\":1589174667,\"replies\":2},{\"no\":75846434,\"last_modified\":1589174605,\"replies\":54}]},{\"page\":6,\"threads\":[{\"no\":75851446,\"last_modified\":1589174644,\"replies\":5},{\"no\":75848802,\"last_modified\":1589174390,\"replies\":15},{\"no\":75850678,\"last_modified\":1589174711,\"replies\":15},{\"no\":75851003,\"last_modified\":1589174251,\"replies\":11},{\"no\":75851751,\"last_modified\":1589174226,\"replies\":3},{\"no\":75851811,\"last_modified\":1589174197,\"replies\":0},{\"no\":75850931,\"last_modified\":1589174124,\"replies\":9},{\"no\":75849948,\"last_modified\":1589174029,\"replies\":11},{\"no\":75848972,\"last_modified\":1589174001,\"replies\":20},{\"no\":75851710,\"last_modified\":1589173877,\"replies\":1},{\"no\":75849318,\"last_modified\":1589173844,\"replies\":14},{\"no\":75851741,\"last_modified\":1589173673,\"replies\":0},{\"no\":75815707,\"last_modified\":1589173658,\"replies\":249},{\"no\":75851737,\"last_modified\":1589173650,\"replies\":0},{\"no\":75851724,\"last_modified\":1589173644,\"replies\":2}]},{\"page\":7,\"threads\":[{\"no\":75848621,\"last_modified\":1589174881,\"replies\":53},{\"no\":75844863,\"last_modified\":1589173498,\"replies\":40},{\"no\":75846680,\"last_modified\":1589173425,\"replies\":28},{\"no\":75835992,\"last_modified\":1589173205,\"replies\":236},{\"no\":75848750,\"last_modified\":1589173103,\"replies\":24},{\"no\":75850523,\"last_modified\":1589173060,\"replies\":28},{\"no\":75851657,\"last_modified\":1589173037,\"replies\":0},{\"no\":75849922,\"last_modified\":1589172914,\"replies\":52},{\"no\":75850686,\"last_modified\":1589172820,\"replies\":12},{\"no\":75851546,\"last_modified\":1589172915,\"replies\":3},{\"no\":75845477,\"last_modified\":1589172707,\"replies\":24},{\"no\":75848173,\"last_modified\":1589172650,\"replies\":35},{\"no\":75849062,\"last_modified\":1589172605,\"replies\":44},{\"no\":75849952,\"last_modified\":1589172555,\"replies\":10},{\"no\":75848373,\"last_modified\":1589172353,\"replies\":19}]},{\"page\":8,\"threads\":[{\"no\":75851556,\"last_modified\":1589172353,\"replies\":2},{\"no\":75851464,\"last_modified\":1589172108,\"replies\":4},{\"no\":75850838,\"last_modified\":1589172089,\"replies\":4},{\"no\":75848280,\"last_modified\":1589171827,\"replies\":24},{\"no\":75845556,\"last_modified\":1589171821,\"replies\":33},{\"no\":75850042,\"last_modified\":1589171778,\"replies\":9},{\"no\":75850874,\"last_modified\":1589171613,\"replies\":8},{\"no\":75821908,\"last_modified\":1589171513,\"replies\":176},{\"no\":75831462,\"last_modified\":1589171497,\"replies\":219},{\"no\":75847613,\"last_modified\":1589171353,\"replies\":17},{\"no\":75850101,\"last_modified\":1589171327,\"replies\":4},{\"no\":75850899,\"last_modified\":1589170571,\"replies\":26},{\"no\":75849889,\"last_modified\":1589170451,\"replies\":11},{\"no\":75849375,\"last_modified\":1589170324,\"replies\":13},{\"no\":75849145,\"last_modified\":1589170218,\"replies\":27}]},{\"page\":9,\"threads\":[{\"no\":75849967,\"last_modified\":1589170162,\"replies\":12},{\"no\":75846925,\"last_modified\":1589170099,\"replies\":46},{\"no\":75847605,\"last_modified\":1589169983,\"replies\":17},{\"no\":75844327,\"last_modified\":1589169617,\"replies\":36},{\"no\":75808998,\"last_modified\":1589169565,\"replies\":253},{\"no\":75850660,\"last_modified\":1589169528,\"replies\":7},{\"no\":75815374,\"last_modified\":1589169481,\"replies\":274},{\"no\":75841119,\"last_modified\":1589169287,\"replies\":83},{\"no\":75851080,\"last_modified\":1589169267,\"replies\":4},{\"no\":75837950,\"last_modified\":1589168996,\"replies\":124},{\"no\":75849572,\"last_modified\":1589168958,\"replies\":30},{\"no\":75848057,\"last_modified\":1589168936,\"replies\":11},{\"no\":75847341,\"last_modified\":1589168694,\"replies\":16},{\"no\":75842727,\"last_modified\":1589168493,\"replies\":20},{\"no\":75850094,\"last_modified\":1589172749,\"replies\":12}]},{\"page\":10,\"threads\":[{\"no\":75850665,\"last_modified\":1589172812,\"replies\":4},{\"no\":75845919,\"last_modified\":1589168129,\"replies\":21},{\"no\":75850713,\"last_modified\":1589168111,\"replies\":9},{\"no\":75845019,\"last_modified\":1589168103,\"replies\":53},{\"no\":75848182,\"last_modified\":1589168063,\"replies\":7},{\"no\":75835026,\"last_modified\":1589167254,\"replies\":188},{\"no\":75841564,\"last_modified\":1589167108,\"replies\":65},{\"no\":75850780,\"last_modified\":1589167004,\"replies\":1},{\"no\":75850793,\"last_modified\":1589167162,\"replies\":5},{\"no\":75849662,\"last_modified\":1589166826,\"replies\":14},{\"no\":75850384,\"last_modified\":1589166150,\"replies\":5},{\"no\":75850130,\"last_modified\":1589166137,\"replies\":14},{\"no\":75849870,\"last_modified\":1589165813,\"replies\":3},{\"no\":75850106,\"last_modified\":1589165785,\"replies\":12},{\"no\":75833905,\"last_modified\":1589165495,\"replies\":167}]},{\"page\":11,\"threads\":[{\"no\":75850582,\"last_modified\":1589165300,\"replies\":0}]}]\n",
            "105\n",
            "https://a.4cdn.org/g/thread/51971506.json\n",
            "https://a.4cdn.org/g/thread/75837095.json\n",
            "https://a.4cdn.org/g/thread/75841134.json\n",
            "https://a.4cdn.org/g/thread/75845613.json\n",
            "https://a.4cdn.org/g/thread/75848322.json\n",
            "https://a.4cdn.org/g/thread/75847296.json\n",
            "https://a.4cdn.org/g/thread/75851738.json\n",
            "https://a.4cdn.org/g/thread/75852112.json\n",
            "https://a.4cdn.org/g/thread/75847866.json\n",
            "https://a.4cdn.org/g/thread/75851909.json\n",
            "https://a.4cdn.org/g/thread/75851744.json\n",
            "https://a.4cdn.org/g/thread/75850075.json\n",
            "https://a.4cdn.org/g/thread/75851090.json\n",
            "https://a.4cdn.org/g/thread/75852160.json\n",
            "https://a.4cdn.org/g/thread/75851650.json\n",
            "https://a.4cdn.org/g/thread/75836575.json\n",
            "https://a.4cdn.org/g/thread/75851989.json\n",
            "https://a.4cdn.org/g/thread/75852129.json\n",
            "https://a.4cdn.org/g/thread/75841588.json\n",
            "https://a.4cdn.org/g/thread/75843692.json\n",
            "https://a.4cdn.org/g/thread/75852145.json\n",
            "https://a.4cdn.org/g/thread/75840382.json\n",
            "https://a.4cdn.org/g/thread/75840171.json\n",
            "https://a.4cdn.org/g/thread/75847546.json\n",
            "https://a.4cdn.org/g/thread/75848912.json\n",
            "https://a.4cdn.org/g/thread/75840484.json\n",
            "https://a.4cdn.org/g/thread/75841179.json\n",
            "https://a.4cdn.org/g/thread/75847685.json\n",
            "https://a.4cdn.org/g/thread/75851392.json\n",
            "https://a.4cdn.org/g/thread/75843730.json\n",
            "https://a.4cdn.org/g/thread/75845537.json\n",
            "https://a.4cdn.org/g/thread/75846769.json\n",
            "https://a.4cdn.org/g/thread/75850836.json\n",
            "https://a.4cdn.org/g/thread/75852066.json\n",
            "https://a.4cdn.org/g/thread/75851204.json\n",
            "https://a.4cdn.org/g/thread/75850770.json\n",
            "https://a.4cdn.org/g/thread/75844423.json\n",
            "https://a.4cdn.org/g/thread/75843534.json\n",
            "https://a.4cdn.org/g/thread/75846857.json\n",
            "https://a.4cdn.org/g/thread/75849102.json\n",
            "https://a.4cdn.org/g/thread/75851564.json\n",
            "https://a.4cdn.org/g/thread/75844086.json\n",
            "https://a.4cdn.org/g/thread/75851688.json\n",
            "https://a.4cdn.org/g/thread/75852044.json\n",
            "https://a.4cdn.org/g/thread/75846176.json\n",
            "https://a.4cdn.org/g/thread/75851891.json\n",
            "https://a.4cdn.org/g/thread/75851951.json\n",
            "https://a.4cdn.org/g/thread/75843209.json\n",
            "https://a.4cdn.org/g/thread/75851707.json\n",
            "https://a.4cdn.org/g/thread/75848866.json\n",
            "https://a.4cdn.org/g/thread/75846280.json\n",
            "https://a.4cdn.org/g/thread/75847209.json\n",
            "https://a.4cdn.org/g/thread/75847980.json\n",
            "https://a.4cdn.org/g/thread/75838850.json\n",
            "https://a.4cdn.org/g/thread/75849075.json\n",
            "https://a.4cdn.org/g/thread/75840096.json\n",
            "https://a.4cdn.org/g/thread/75850366.json\n",
            "https://a.4cdn.org/g/thread/75851422.json\n",
            "https://a.4cdn.org/g/thread/75851597.json\n",
            "https://a.4cdn.org/g/thread/75850768.json\n",
            "https://a.4cdn.org/g/thread/75842404.json\n",
            "https://a.4cdn.org/g/thread/75847641.json\n",
            "https://a.4cdn.org/g/thread/75824136.json\n",
            "https://a.4cdn.org/g/thread/75851828.json\n",
            "https://a.4cdn.org/g/thread/75851795.json\n",
            "https://a.4cdn.org/g/thread/75851942.json\n",
            "https://a.4cdn.org/g/thread/75846504.json\n",
            "https://a.4cdn.org/g/thread/75850513.json\n",
            "https://a.4cdn.org/g/thread/75849631.json\n",
            "https://a.4cdn.org/g/thread/75836486.json\n",
            "https://a.4cdn.org/g/thread/75850350.json\n",
            "https://a.4cdn.org/g/thread/75849235.json\n",
            "https://a.4cdn.org/g/thread/75850852.json\n",
            "https://a.4cdn.org/g/thread/75851584.json\n",
            "https://a.4cdn.org/g/thread/75846434.json\n",
            "https://a.4cdn.org/g/thread/75851446.json\n",
            "https://a.4cdn.org/g/thread/75848802.json\n",
            "https://a.4cdn.org/g/thread/75850678.json\n",
            "https://a.4cdn.org/g/thread/75851003.json\n",
            "https://a.4cdn.org/g/thread/75851751.json\n",
            "https://a.4cdn.org/g/thread/75851811.json\n",
            "https://a.4cdn.org/g/thread/75850931.json\n",
            "https://a.4cdn.org/g/thread/75849948.json\n",
            "https://a.4cdn.org/g/thread/75848972.json\n",
            "https://a.4cdn.org/g/thread/75851710.json\n",
            "https://a.4cdn.org/g/thread/75849318.json\n",
            "https://a.4cdn.org/g/thread/75851741.json\n",
            "https://a.4cdn.org/g/thread/75815707.json\n",
            "https://a.4cdn.org/g/thread/75851737.json\n",
            "https://a.4cdn.org/g/thread/75851724.json\n",
            "https://a.4cdn.org/g/thread/75848621.json\n",
            "https://a.4cdn.org/g/thread/75844863.json\n",
            "https://a.4cdn.org/g/thread/75846680.json\n",
            "https://a.4cdn.org/g/thread/75835992.json\n",
            "https://a.4cdn.org/g/thread/75848750.json\n",
            "https://a.4cdn.org/g/thread/75850523.json\n",
            "https://a.4cdn.org/g/thread/75851657.json\n",
            "https://a.4cdn.org/g/thread/75849922.json\n",
            "https://a.4cdn.org/g/thread/75850686.json\n",
            "https://a.4cdn.org/g/thread/75851546.json\n",
            "https://a.4cdn.org/g/thread/75845477.json\n",
            "https://a.4cdn.org/g/thread/75848173.json\n",
            "https://a.4cdn.org/g/thread/75849062.json\n",
            "https://a.4cdn.org/g/thread/75849952.json\n",
            "https://a.4cdn.org/g/thread/75848373.json\n",
            "The /g/ Wiki:http://wiki.installgentoo.com/\n",
            "\n",
            "/g/ is for the discussion of technology and related topics.\n",
            "/g/ is NOT your personal tech support team or personal consumer review site.\n",
            "For tech support/issues with computers, use /wsr/ - Worksafe Requests or one of the following:\n",
            "https://startpage.com/ or https://duckduckgo.com (i.e., fucking google it)\n",
            "https://stackexchange.com/\n",
            "http://www.logicalincrements.com/\n",
            "\n",
            "You can also search the catalog for a specific term by using:\n",
            "https://boards.4chan.org/g/searchword or by clicking on [Search] \n",
            "\n",
            "Always check the catalog before creating a thread:/g/catalog\n",
            "\n",
            "Please check the rules before you post:\n",
            "Begging for cryptocurrency is against the rules!\n",
            "\n",
            "To use the Code tag, book-end your body of code with: [code] and [/code]\n",
            "Thoughts?\n",
            "Dead skin and matter collecting in the hexagons\n",
            "I like mine, had it for about 6months and still looks the same as when I bought it. I dont know how people get them to be so disgusting.\n",
            "I think theyre stupidly cringe considering the whole glorious pc masterrace gayming theme going on with the RGB tranny freakshow.\n",
            "I got one, mouse wheel is awful, also kinda hate the fag on the side.\n",
            "The endgame xm1 looks perfect to me, anyone got it?\n",
            "Childs toy. Buy a Logitech mouse and move on.\n",
            "cringealso this particular mouse is made out of shit, dont buy into the hype\n",
            "Brain amputated zoomers to a mouse like flies to a turd\n",
            "A trypophobiacs nightmare.\n",
            "he hates having an aryan chad on the side of his mouse75837095I have a model D and its pretty good. Always liked this mouse shape and wanted something light so I got it. My only complaint is that the M1 and M2 buttons can overpress with enough force so it can feel a little squishy sometimes. If you dont care about weight just get the zowie that the model O is based off.\n",
            "anime picowns this producttells you everything you need to know, doesnt it\n",
            "Fk shape is overrated. Get the mm710\n",
            "fortnite mouse\n",
            "on an anime websitecomplaining about animeleave faggot\n",
            "le lightweight swiss cheese RGBTQ gaymen mouseIf you unironically consider buying it, thenn just end your miserable life.\n",
            "anime posting faggotbought the meme mouse\n",
            "see 75840355\n",
            "just got a model o minus a couple weeks ago. i really like it so far. its obviously a shitty chinese mouse just rebranded, but the build quality is actually decent. the software is a complete joke, but it works. the mousewheel does suck tho.\n"
          ],
          "name": "stdout"
        }
      ]
    },
    {
      "cell_type": "code",
      "metadata": {
        "id": "zHv8iYK8UwIE",
        "colab_type": "code",
        "outputId": "30cc3e18-7115-4c4b-bd43-d7194c0c3dbc",
        "colab": {
          "base_uri": "https://localhost:8080/",
          "height": 1000
        }
      },
      "source": [
        "# pychan infers what type of object you're giving it. See the above table.\n",
        "# Whether its a string pointing to a file/dict/dict in string format.\n",
        "thredlist = requests.get('https://a.4cdn.org/ck/threads.json')\n",
        "\n",
        "print (thredlist.text)\n",
        "json_data = json.loads(thredlist.text)\n",
        "\n",
        "threadList      = pychan.FourChan(json_data)\n",
        "\n",
        "ck_thread_list = []\n",
        "page_no = 0\n",
        "while len(ck_thread_list) <= 100:\n",
        "  for i in threadList.page[page_no].threads:\n",
        "    ck_thread_list.append(i.no)\n",
        "  page_no = page_no + 1\n",
        "print (len(ck_thread_list))\n",
        "\n",
        "ck_comments = []\n",
        "messages_each_thread_ck = []\n",
        "for i in range(len(ck_thread_list)):\n",
        "  thread_URL = 'https://a.4cdn.org/ck/thread/' + str(ck_thread_list[i]) +'.json'\n",
        "  print (thread_URL)\n",
        "  extract = requests.get(thread_URL)\n",
        "  json_data = json.loads(extract.text)\n",
        "  postslist = pychan.FourChan(json_data)\n",
        "  no_of_messages = 0\n",
        "  for post in postslist.posts:\n",
        "    try:\n",
        "      clean = re.compile('<.*?>')\n",
        "      comment = re.sub(clean, '', post.com)\n",
        "      clean2 = re.compile('&gt;')\n",
        "      comment = re.sub(clean2, '', comment)\n",
        "      clean3 = re.compile('&#039;')\n",
        "      comment = re.sub(clean3, '', comment)\n",
        "      comment = comment.lstrip('0123456789.- ')\n",
        "      no_of_messages = no_of_messages + 1\n",
        "      ck_comments.append(comment)\n",
        "      \n",
        "    except:\n",
        "      continue\n",
        "  messages_each_thread_ck.append(no_of_messages)\n",
        "for i in range(20):\n",
        "  print(ck_comments[i])"
      ],
      "execution_count": 6,
      "outputs": [
        {
          "output_type": "stream",
          "text": [
            "[{\"page\":1,\"threads\":[{\"no\":14064134,\"last_modified\":1589176665,\"replies\":31},{\"no\":14067080,\"last_modified\":1589176631,\"replies\":4},{\"no\":14062569,\"last_modified\":1589176625,\"replies\":16},{\"no\":14060423,\"last_modified\":1589176600,\"replies\":266},{\"no\":14058774,\"last_modified\":1589176597,\"replies\":120},{\"no\":14063314,\"last_modified\":1589176573,\"replies\":80},{\"no\":14055177,\"last_modified\":1589176552,\"replies\":89},{\"no\":14066697,\"last_modified\":1589176503,\"replies\":15},{\"no\":14063095,\"last_modified\":1589176435,\"replies\":87},{\"no\":14066252,\"last_modified\":1589176434,\"replies\":12},{\"no\":14061479,\"last_modified\":1589176419,\"replies\":79},{\"no\":14060100,\"last_modified\":1589176386,\"replies\":97},{\"no\":14066249,\"last_modified\":1589176370,\"replies\":26},{\"no\":14065617,\"last_modified\":1589176345,\"replies\":15},{\"no\":14066782,\"last_modified\":1589176309,\"replies\":4}]},{\"page\":2,\"threads\":[{\"no\":14065548,\"last_modified\":1589176261,\"replies\":10},{\"no\":14066957,\"last_modified\":1589176191,\"replies\":9},{\"no\":14066860,\"last_modified\":1589176190,\"replies\":3},{\"no\":14067016,\"last_modified\":1589176157,\"replies\":5},{\"no\":14066540,\"last_modified\":1589176149,\"replies\":16},{\"no\":14065283,\"last_modified\":1589176091,\"replies\":8},{\"no\":14053616,\"last_modified\":1589176019,\"replies\":103},{\"no\":14066848,\"last_modified\":1589176005,\"replies\":8},{\"no\":14067042,\"last_modified\":1589175983,\"replies\":3},{\"no\":14066900,\"last_modified\":1589175734,\"replies\":16},{\"no\":14061645,\"last_modified\":1589175650,\"replies\":95},{\"no\":14062956,\"last_modified\":1589175554,\"replies\":38},{\"no\":14065575,\"last_modified\":1589175286,\"replies\":7},{\"no\":14033631,\"last_modified\":1589175217,\"replies\":166},{\"no\":14053571,\"last_modified\":1589175212,\"replies\":147}]},{\"page\":3,\"threads\":[{\"no\":14065816,\"last_modified\":1589175165,\"replies\":36},{\"no\":14063334,\"last_modified\":1589175143,\"replies\":37},{\"no\":14058926,\"last_modified\":1589175084,\"replies\":236},{\"no\":14066250,\"last_modified\":1589175006,\"replies\":43},{\"no\":14058737,\"last_modified\":1589174939,\"replies\":130},{\"no\":14065660,\"last_modified\":1589174909,\"replies\":7},{\"no\":14066825,\"last_modified\":1589174876,\"replies\":3},{\"no\":14067019,\"last_modified\":1589174867,\"replies\":0},{\"no\":14063902,\"last_modified\":1589174809,\"replies\":43},{\"no\":14064350,\"last_modified\":1589174764,\"replies\":48},{\"no\":14059756,\"last_modified\":1589174737,\"replies\":45},{\"no\":14063523,\"last_modified\":1589174684,\"replies\":21},{\"no\":14066986,\"last_modified\":1589174603,\"replies\":1},{\"no\":14064592,\"last_modified\":1589174574,\"replies\":25},{\"no\":14062610,\"last_modified\":1589174476,\"replies\":30}]},{\"page\":4,\"threads\":[{\"no\":14065744,\"last_modified\":1589174231,\"replies\":10},{\"no\":14066382,\"last_modified\":1589174152,\"replies\":2},{\"no\":14064466,\"last_modified\":1589174041,\"replies\":33},{\"no\":14065006,\"last_modified\":1589173753,\"replies\":8},{\"no\":14066908,\"last_modified\":1589173592,\"replies\":5},{\"no\":14066577,\"last_modified\":1589173207,\"replies\":7},{\"no\":14063752,\"last_modified\":1589173135,\"replies\":64},{\"no\":14065207,\"last_modified\":1589173021,\"replies\":28},{\"no\":14028916,\"last_modified\":1589172919,\"replies\":261},{\"no\":14065127,\"last_modified\":1589172852,\"replies\":6},{\"no\":14062465,\"last_modified\":1589172448,\"replies\":35},{\"no\":14060963,\"last_modified\":1589171961,\"replies\":52},{\"no\":14065394,\"last_modified\":1589171724,\"replies\":26},{\"no\":14066746,\"last_modified\":1589171516,\"replies\":3},{\"no\":14065607,\"last_modified\":1589171288,\"replies\":60}]},{\"page\":5,\"threads\":[{\"no\":14065520,\"last_modified\":1589171259,\"replies\":21},{\"no\":14064773,\"last_modified\":1589170908,\"replies\":27},{\"no\":14066735,\"last_modified\":1589175869,\"replies\":12},{\"no\":14066086,\"last_modified\":1589170273,\"replies\":9},{\"no\":14061499,\"last_modified\":1589170241,\"replies\":20},{\"no\":14066771,\"last_modified\":1589171353,\"replies\":1},{\"no\":14063804,\"last_modified\":1589170071,\"replies\":40},{\"no\":14066251,\"last_modified\":1589169994,\"replies\":11},{\"no\":14066510,\"last_modified\":1589169783,\"replies\":7},{\"no\":14064153,\"last_modified\":1589169604,\"replies\":12},{\"no\":14063680,\"last_modified\":1589169521,\"replies\":18},{\"no\":14066653,\"last_modified\":1589169457,\"replies\":5},{\"no\":14064713,\"last_modified\":1589169119,\"replies\":16},{\"no\":14065682,\"last_modified\":1589168731,\"replies\":23},{\"no\":14066343,\"last_modified\":1589168591,\"replies\":6}]},{\"page\":6,\"threads\":[{\"no\":14064114,\"last_modified\":1589168560,\"replies\":36},{\"no\":14066383,\"last_modified\":1589168466,\"replies\":15},{\"no\":14059581,\"last_modified\":1589168395,\"replies\":84},{\"no\":14066159,\"last_modified\":1589168214,\"replies\":3},{\"no\":14066147,\"last_modified\":1589168110,\"replies\":9},{\"no\":14056263,\"last_modified\":1589167899,\"replies\":103},{\"no\":14065030,\"last_modified\":1589167855,\"replies\":8},{\"no\":14059571,\"last_modified\":1589167558,\"replies\":15},{\"no\":14056419,\"last_modified\":1589167485,\"replies\":86},{\"no\":14064368,\"last_modified\":1589167456,\"replies\":27},{\"no\":14066198,\"last_modified\":1589167339,\"replies\":12},{\"no\":14064103,\"last_modified\":1589167274,\"replies\":17},{\"no\":14064172,\"last_modified\":1589167148,\"replies\":36},{\"no\":14061831,\"last_modified\":1589166986,\"replies\":25},{\"no\":14064207,\"last_modified\":1589166857,\"replies\":12}]},{\"page\":7,\"threads\":[{\"no\":14065851,\"last_modified\":1589171630,\"replies\":12},{\"no\":14065770,\"last_modified\":1589166673,\"replies\":16},{\"no\":14058085,\"last_modified\":1589166379,\"replies\":194},{\"no\":14066350,\"last_modified\":1589166219,\"replies\":1},{\"no\":14055327,\"last_modified\":1589166091,\"replies\":179},{\"no\":14064784,\"last_modified\":1589166006,\"replies\":15},{\"no\":14060658,\"last_modified\":1589167200,\"replies\":72},{\"no\":14065118,\"last_modified\":1589165633,\"replies\":15},{\"no\":14065318,\"last_modified\":1589164912,\"replies\":7},{\"no\":14066363,\"last_modified\":1589164515,\"replies\":5},{\"no\":14063770,\"last_modified\":1589164469,\"replies\":21},{\"no\":14065824,\"last_modified\":1589164338,\"replies\":6},{\"no\":14066095,\"last_modified\":1589164192,\"replies\":11},{\"no\":14066302,\"last_modified\":1589164152,\"replies\":6},{\"no\":14066372,\"last_modified\":1589164102,\"replies\":0}]},{\"page\":8,\"threads\":[{\"no\":14065990,\"last_modified\":1589163977,\"replies\":12},{\"no\":14064928,\"last_modified\":1589163912,\"replies\":10},{\"no\":14066156,\"last_modified\":1589162672,\"replies\":2},{\"no\":14065728,\"last_modified\":1589162306,\"replies\":17},{\"no\":14062717,\"last_modified\":1589162726,\"replies\":44},{\"no\":14065916,\"last_modified\":1589161524,\"replies\":16},{\"no\":14065301,\"last_modified\":1589161520,\"replies\":22},{\"no\":14061740,\"last_modified\":1589161028,\"replies\":20},{\"no\":14057278,\"last_modified\":1589160985,\"replies\":39},{\"no\":14063670,\"last_modified\":1589160904,\"replies\":12},{\"no\":14058595,\"last_modified\":1589160889,\"replies\":33},{\"no\":14065282,\"last_modified\":1589160805,\"replies\":17},{\"no\":14049510,\"last_modified\":1589160686,\"replies\":140},{\"no\":14064459,\"last_modified\":1589160675,\"replies\":6},{\"no\":14062263,\"last_modified\":1589160380,\"replies\":13}]},{\"page\":9,\"threads\":[{\"no\":14057055,\"last_modified\":1589166891,\"replies\":134},{\"no\":14065708,\"last_modified\":1589159452,\"replies\":11},{\"no\":14062346,\"last_modified\":1589159370,\"replies\":19},{\"no\":14065185,\"last_modified\":1589159360,\"replies\":10},{\"no\":14065311,\"last_modified\":1589159297,\"replies\":29},{\"no\":14048345,\"last_modified\":1589158984,\"replies\":150},{\"no\":14064799,\"last_modified\":1589158755,\"replies\":7},{\"no\":14058421,\"last_modified\":1589158076,\"replies\":74},{\"no\":14064753,\"last_modified\":1589157591,\"replies\":12},{\"no\":14065756,\"last_modified\":1589156945,\"replies\":0},{\"no\":14061130,\"last_modified\":1589156752,\"replies\":22},{\"no\":14048649,\"last_modified\":1589156381,\"replies\":138},{\"no\":14064961,\"last_modified\":1589156019,\"replies\":14},{\"no\":14063599,\"last_modified\":1589155657,\"replies\":9},{\"no\":14063231,\"last_modified\":1589155472,\"replies\":14}]},{\"page\":10,\"threads\":[{\"no\":14061902,\"last_modified\":1589154976,\"replies\":27},{\"no\":14064263,\"last_modified\":1589154787,\"replies\":11},{\"no\":14065415,\"last_modified\":1589153710,\"replies\":7},{\"no\":14063760,\"last_modified\":1589153563,\"replies\":13},{\"no\":14065425,\"last_modified\":1589153406,\"replies\":5},{\"no\":14064199,\"last_modified\":1589157134,\"replies\":11},{\"no\":14064480,\"last_modified\":1589153291,\"replies\":27},{\"no\":14065410,\"last_modified\":1589152855,\"replies\":1},{\"no\":14063603,\"last_modified\":1589165290,\"replies\":38},{\"no\":14055199,\"last_modified\":1589166994,\"replies\":322},{\"no\":14065245,\"last_modified\":1589151566,\"replies\":7},{\"no\":14060238,\"last_modified\":1589152266,\"replies\":101},{\"no\":14063434,\"last_modified\":1589151487,\"replies\":9},{\"no\":14065268,\"last_modified\":1589151425,\"replies\":2},{\"no\":14062994,\"last_modified\":1589151027,\"replies\":14}]}]\n",
            "105\n",
            "https://a.4cdn.org/ck/thread/14064134.json\n",
            "https://a.4cdn.org/ck/thread/14067080.json\n",
            "https://a.4cdn.org/ck/thread/14062569.json\n",
            "https://a.4cdn.org/ck/thread/14060423.json\n",
            "https://a.4cdn.org/ck/thread/14058774.json\n",
            "https://a.4cdn.org/ck/thread/14063314.json\n",
            "https://a.4cdn.org/ck/thread/14055177.json\n",
            "https://a.4cdn.org/ck/thread/14066697.json\n",
            "https://a.4cdn.org/ck/thread/14063095.json\n",
            "https://a.4cdn.org/ck/thread/14066252.json\n",
            "https://a.4cdn.org/ck/thread/14061479.json\n",
            "https://a.4cdn.org/ck/thread/14060100.json\n",
            "https://a.4cdn.org/ck/thread/14066249.json\n",
            "https://a.4cdn.org/ck/thread/14065617.json\n",
            "https://a.4cdn.org/ck/thread/14066782.json\n",
            "https://a.4cdn.org/ck/thread/14065548.json\n",
            "https://a.4cdn.org/ck/thread/14066957.json\n",
            "https://a.4cdn.org/ck/thread/14066860.json\n",
            "https://a.4cdn.org/ck/thread/14067016.json\n",
            "https://a.4cdn.org/ck/thread/14066540.json\n",
            "https://a.4cdn.org/ck/thread/14065283.json\n",
            "https://a.4cdn.org/ck/thread/14053616.json\n",
            "https://a.4cdn.org/ck/thread/14066848.json\n",
            "https://a.4cdn.org/ck/thread/14067042.json\n",
            "https://a.4cdn.org/ck/thread/14066900.json\n",
            "https://a.4cdn.org/ck/thread/14061645.json\n",
            "https://a.4cdn.org/ck/thread/14062956.json\n",
            "https://a.4cdn.org/ck/thread/14065575.json\n",
            "https://a.4cdn.org/ck/thread/14033631.json\n",
            "https://a.4cdn.org/ck/thread/14053571.json\n",
            "https://a.4cdn.org/ck/thread/14065816.json\n",
            "https://a.4cdn.org/ck/thread/14063334.json\n",
            "https://a.4cdn.org/ck/thread/14058926.json\n",
            "https://a.4cdn.org/ck/thread/14066250.json\n",
            "https://a.4cdn.org/ck/thread/14058737.json\n",
            "https://a.4cdn.org/ck/thread/14065660.json\n",
            "https://a.4cdn.org/ck/thread/14066825.json\n",
            "https://a.4cdn.org/ck/thread/14067019.json\n",
            "https://a.4cdn.org/ck/thread/14063902.json\n",
            "https://a.4cdn.org/ck/thread/14064350.json\n",
            "https://a.4cdn.org/ck/thread/14059756.json\n",
            "https://a.4cdn.org/ck/thread/14063523.json\n",
            "https://a.4cdn.org/ck/thread/14066986.json\n",
            "https://a.4cdn.org/ck/thread/14064592.json\n",
            "https://a.4cdn.org/ck/thread/14062610.json\n",
            "https://a.4cdn.org/ck/thread/14065744.json\n",
            "https://a.4cdn.org/ck/thread/14066382.json\n",
            "https://a.4cdn.org/ck/thread/14064466.json\n",
            "https://a.4cdn.org/ck/thread/14065006.json\n",
            "https://a.4cdn.org/ck/thread/14066908.json\n",
            "https://a.4cdn.org/ck/thread/14066577.json\n",
            "https://a.4cdn.org/ck/thread/14063752.json\n",
            "https://a.4cdn.org/ck/thread/14065207.json\n",
            "https://a.4cdn.org/ck/thread/14028916.json\n",
            "https://a.4cdn.org/ck/thread/14065127.json\n",
            "https://a.4cdn.org/ck/thread/14062465.json\n",
            "https://a.4cdn.org/ck/thread/14060963.json\n",
            "https://a.4cdn.org/ck/thread/14065394.json\n",
            "https://a.4cdn.org/ck/thread/14066746.json\n",
            "https://a.4cdn.org/ck/thread/14065607.json\n",
            "https://a.4cdn.org/ck/thread/14065520.json\n",
            "https://a.4cdn.org/ck/thread/14064773.json\n",
            "https://a.4cdn.org/ck/thread/14066735.json\n",
            "https://a.4cdn.org/ck/thread/14066086.json\n",
            "https://a.4cdn.org/ck/thread/14061499.json\n",
            "https://a.4cdn.org/ck/thread/14066771.json\n",
            "https://a.4cdn.org/ck/thread/14063804.json\n",
            "https://a.4cdn.org/ck/thread/14066251.json\n",
            "https://a.4cdn.org/ck/thread/14066510.json\n",
            "https://a.4cdn.org/ck/thread/14064153.json\n",
            "https://a.4cdn.org/ck/thread/14063680.json\n",
            "https://a.4cdn.org/ck/thread/14066653.json\n",
            "https://a.4cdn.org/ck/thread/14064713.json\n",
            "https://a.4cdn.org/ck/thread/14065682.json\n",
            "https://a.4cdn.org/ck/thread/14066343.json\n",
            "https://a.4cdn.org/ck/thread/14064114.json\n",
            "https://a.4cdn.org/ck/thread/14066383.json\n",
            "https://a.4cdn.org/ck/thread/14059581.json\n",
            "https://a.4cdn.org/ck/thread/14066159.json\n",
            "https://a.4cdn.org/ck/thread/14066147.json\n",
            "https://a.4cdn.org/ck/thread/14056263.json\n",
            "https://a.4cdn.org/ck/thread/14065030.json\n",
            "https://a.4cdn.org/ck/thread/14059571.json\n",
            "https://a.4cdn.org/ck/thread/14056419.json\n",
            "https://a.4cdn.org/ck/thread/14064368.json\n",
            "https://a.4cdn.org/ck/thread/14066198.json\n",
            "https://a.4cdn.org/ck/thread/14064103.json\n",
            "https://a.4cdn.org/ck/thread/14064172.json\n",
            "https://a.4cdn.org/ck/thread/14061831.json\n",
            "https://a.4cdn.org/ck/thread/14064207.json\n",
            "https://a.4cdn.org/ck/thread/14065851.json\n",
            "https://a.4cdn.org/ck/thread/14065770.json\n",
            "https://a.4cdn.org/ck/thread/14058085.json\n",
            "https://a.4cdn.org/ck/thread/14066350.json\n",
            "https://a.4cdn.org/ck/thread/14055327.json\n",
            "https://a.4cdn.org/ck/thread/14064784.json\n",
            "https://a.4cdn.org/ck/thread/14060658.json\n",
            "https://a.4cdn.org/ck/thread/14065118.json\n",
            "https://a.4cdn.org/ck/thread/14065318.json\n",
            "https://a.4cdn.org/ck/thread/14066363.json\n",
            "https://a.4cdn.org/ck/thread/14063770.json\n",
            "https://a.4cdn.org/ck/thread/14065824.json\n",
            "https://a.4cdn.org/ck/thread/14066095.json\n",
            "https://a.4cdn.org/ck/thread/14066302.json\n",
            "https://a.4cdn.org/ck/thread/14066372.json\n",
            "What do you call someone who sells themselves for spaghetti?\n",
            "a meat baller?\n",
            "Spaghetti-ho\n",
            "A pasta-tute!\n",
            "\n",
            "\n",
            "dios mio\n",
            "I thought it would be a puttanesca joke\n",
            "he based\n",
            "can confirm this is based\n",
            "spgett is good\n",
            "heh\n",
            "yeeeeeeeeeeeenanananananacunt\n",
            "pasta primo\n",
            "\n",
            "this thread is farfalle.\n",
            "AHHAHHAHA HELP I BURNT MY TOUNG ON SPETTIOS AHHH\n",
            "A whore\n",
            "\n",
            "Mamma Mia!\n"
          ],
          "name": "stdout"
        }
      ]
    },
    {
      "cell_type": "code",
      "metadata": {
        "id": "aCo_rF9hewQg",
        "colab_type": "code",
        "colab": {}
      },
      "source": [
        ""
      ],
      "execution_count": 0,
      "outputs": []
    },
    {
      "cell_type": "code",
      "metadata": {
        "id": "bmaaCKJ3Uwln",
        "colab_type": "code",
        "outputId": "72b4ebf5-f477-439c-b824-d286241b2724",
        "colab": {
          "base_uri": "https://localhost:8080/",
          "height": 1000
        }
      },
      "source": [
        "# pychan infers what type of object you're giving it. See the above table.\n",
        "# Whether its a string pointing to a file/dict/dict in string format.\n",
        "thredlist = requests.get('https://a.4cdn.org/tv/threads.json')\n",
        "\n",
        "print (thredlist.text)\n",
        "json_data = json.loads(thredlist.text)\n",
        "\n",
        "threadList      = pychan.FourChan(json_data)\n",
        "\n",
        "tv_thread_list = []\n",
        "page_no = 0\n",
        "while len(tv_thread_list) <= 100:\n",
        "  for i in threadList.page[page_no].threads:\n",
        "    tv_thread_list.append(i.no)\n",
        "  page_no = page_no + 1\n",
        "\n",
        "tv_comments = []\n",
        "messages_each_thread_tv = []\n",
        "for i in range(len(tv_thread_list)):\n",
        "  thread_URL = 'https://a.4cdn.org/tv/thread/' + str(tv_thread_list[i]) +'.json'\n",
        "  print (thread_URL)\n",
        "  extract = requests.get(thread_URL)\n",
        "  json_data = json.loads(extract.text)\n",
        "  postslist = pychan.FourChan(json_data)\n",
        "  no_of_messages = 0\n",
        "  for post in postslist.posts:\n",
        "    try:\n",
        "      clean = re.compile('<.*?>')\n",
        "      comment = re.sub(clean, '', post.com)\n",
        "      clean2 = re.compile('&gt;')\n",
        "      comment = re.sub(clean2, '', comment)\n",
        "      clean3 = re.compile('&#039;')\n",
        "      comment = re.sub(clean3, '', comment)\n",
        "      comment = comment.lstrip('0123456789.- ')\n",
        "      no_of_messages = no_of_messages + 1\n",
        "      tv_comments.append(comment)\n",
        "    except:\n",
        "      continue\n",
        "  \n",
        "  messages_each_thread_tv.append(no_of_messages)\n",
        "for i in range(20):\n",
        "  print(tv_comments[i])"
      ],
      "execution_count": 7,
      "outputs": [
        {
          "output_type": "stream",
          "text": [
            "[{\"page\":1,\"threads\":[{\"no\":133573424,\"last_modified\":1589176758,\"replies\":91},{\"no\":133570796,\"last_modified\":1589176757,\"replies\":82},{\"no\":133573962,\"last_modified\":1589176756,\"replies\":16},{\"no\":133572971,\"last_modified\":1589176753,\"replies\":6},{\"no\":133574926,\"last_modified\":1589176753,\"replies\":0},{\"no\":133571251,\"last_modified\":1589176752,\"replies\":53},{\"no\":133574068,\"last_modified\":1589176750,\"replies\":9},{\"no\":133564683,\"last_modified\":1589176750,\"replies\":209},{\"no\":133572712,\"last_modified\":1589176746,\"replies\":111},{\"no\":133574195,\"last_modified\":1589176744,\"replies\":8},{\"no\":133574470,\"last_modified\":1589176737,\"replies\":9},{\"no\":133572106,\"last_modified\":1589176736,\"replies\":52},{\"no\":133566622,\"last_modified\":1589176736,\"replies\":217},{\"no\":133560714,\"last_modified\":1589176734,\"replies\":275},{\"no\":133573810,\"last_modified\":1589176732,\"replies\":29}]},{\"page\":2,\"threads\":[{\"no\":133574060,\"last_modified\":1589176728,\"replies\":5},{\"no\":133563920,\"last_modified\":1589176730,\"replies\":57},{\"no\":133571119,\"last_modified\":1589176726,\"replies\":29},{\"no\":133571348,\"last_modified\":1589176723,\"replies\":28},{\"no\":133569911,\"last_modified\":1589176712,\"replies\":31},{\"no\":133571507,\"last_modified\":1589176709,\"replies\":22},{\"no\":133574869,\"last_modified\":1589176708,\"replies\":1},{\"no\":133553916,\"last_modified\":1589176707,\"replies\":289},{\"no\":133571171,\"last_modified\":1589176703,\"replies\":38},{\"no\":133574390,\"last_modified\":1589176693,\"replies\":23},{\"no\":133562972,\"last_modified\":1589176684,\"replies\":107},{\"no\":133572562,\"last_modified\":1589176673,\"replies\":20},{\"no\":133574315,\"last_modified\":1589176662,\"replies\":6},{\"no\":133561131,\"last_modified\":1589176661,\"replies\":153},{\"no\":133569199,\"last_modified\":1589176659,\"replies\":57}]},{\"page\":3,\"threads\":[{\"no\":133573422,\"last_modified\":1589176652,\"replies\":10},{\"no\":133574003,\"last_modified\":1589176648,\"replies\":27},{\"no\":133559452,\"last_modified\":1589176631,\"replies\":83},{\"no\":133574862,\"last_modified\":1589176622,\"replies\":0},{\"no\":133572738,\"last_modified\":1589176618,\"replies\":47},{\"no\":133572648,\"last_modified\":1589176612,\"replies\":15},{\"no\":133571258,\"last_modified\":1589176602,\"replies\":24},{\"no\":133565471,\"last_modified\":1589176597,\"replies\":85},{\"no\":133570057,\"last_modified\":1589176595,\"replies\":29},{\"no\":133574720,\"last_modified\":1589176591,\"replies\":1},{\"no\":133566416,\"last_modified\":1589176591,\"replies\":48},{\"no\":133572710,\"last_modified\":1589176580,\"replies\":11},{\"no\":133574834,\"last_modified\":1589176578,\"replies\":0},{\"no\":133570772,\"last_modified\":1589176570,\"replies\":19},{\"no\":133573368,\"last_modified\":1589176566,\"replies\":34}]},{\"page\":4,\"threads\":[{\"no\":133574657,\"last_modified\":1589176557,\"replies\":4},{\"no\":133566349,\"last_modified\":1589176534,\"replies\":117},{\"no\":133574444,\"last_modified\":1589176518,\"replies\":5},{\"no\":133572769,\"last_modified\":1589176515,\"replies\":2},{\"no\":133564167,\"last_modified\":1589176515,\"replies\":33},{\"no\":133552774,\"last_modified\":1589176507,\"replies\":218},{\"no\":133569053,\"last_modified\":1589176501,\"replies\":58},{\"no\":133570720,\"last_modified\":1589176499,\"replies\":24},{\"no\":133574213,\"last_modified\":1589176530,\"replies\":7},{\"no\":133572884,\"last_modified\":1589176488,\"replies\":33},{\"no\":133572930,\"last_modified\":1589176472,\"replies\":15},{\"no\":133574510,\"last_modified\":1589176482,\"replies\":4},{\"no\":133574769,\"last_modified\":1589176438,\"replies\":0},{\"no\":133573262,\"last_modified\":1589176438,\"replies\":10},{\"no\":133574603,\"last_modified\":1589176437,\"replies\":1}]},{\"page\":5,\"threads\":[{\"no\":133572994,\"last_modified\":1589176434,\"replies\":9},{\"no\":133574307,\"last_modified\":1589176433,\"replies\":5},{\"no\":133574739,\"last_modified\":1589176394,\"replies\":0},{\"no\":133574325,\"last_modified\":1589176385,\"replies\":1},{\"no\":133562105,\"last_modified\":1589176382,\"replies\":81},{\"no\":133571983,\"last_modified\":1589176363,\"replies\":35},{\"no\":133569740,\"last_modified\":1589176362,\"replies\":25},{\"no\":133573060,\"last_modified\":1589176350,\"replies\":13},{\"no\":133568498,\"last_modified\":1589176348,\"replies\":40},{\"no\":133570141,\"last_modified\":1589176321,\"replies\":38},{\"no\":133574596,\"last_modified\":1589176323,\"replies\":3},{\"no\":133571106,\"last_modified\":1589176289,\"replies\":25},{\"no\":133573320,\"last_modified\":1589176276,\"replies\":17},{\"no\":133566507,\"last_modified\":1589176267,\"replies\":35},{\"no\":133562774,\"last_modified\":1589176260,\"replies\":181}]},{\"page\":6,\"threads\":[{\"no\":133573847,\"last_modified\":1589176259,\"replies\":1},{\"no\":133571203,\"last_modified\":1589176206,\"replies\":5},{\"no\":133571751,\"last_modified\":1589176198,\"replies\":31},{\"no\":133574625,\"last_modified\":1589176194,\"replies\":0},{\"no\":133572836,\"last_modified\":1589176154,\"replies\":28},{\"no\":133572047,\"last_modified\":1589176144,\"replies\":17},{\"no\":133574517,\"last_modified\":1589176124,\"replies\":2},{\"no\":133572520,\"last_modified\":1589176118,\"replies\":4},{\"no\":133573991,\"last_modified\":1589176099,\"replies\":5},{\"no\":133574561,\"last_modified\":1589176063,\"replies\":0},{\"no\":133571635,\"last_modified\":1589176054,\"replies\":40},{\"no\":133572496,\"last_modified\":1589176014,\"replies\":13},{\"no\":133574522,\"last_modified\":1589176303,\"replies\":1},{\"no\":133569461,\"last_modified\":1589176004,\"replies\":24},{\"no\":133570328,\"last_modified\":1589175992,\"replies\":29}]},{\"page\":7,\"threads\":[{\"no\":133573965,\"last_modified\":1589175987,\"replies\":11},{\"no\":133574477,\"last_modified\":1589175923,\"replies\":0},{\"no\":133574288,\"last_modified\":1589176071,\"replies\":9},{\"no\":133569530,\"last_modified\":1589175893,\"replies\":15},{\"no\":133566489,\"last_modified\":1589175883,\"replies\":35},{\"no\":133569050,\"last_modified\":1589175879,\"replies\":24},{\"no\":133574178,\"last_modified\":1589175849,\"replies\":1},{\"no\":133574424,\"last_modified\":1589175824,\"replies\":0},{\"no\":133574423,\"last_modified\":1589175823,\"replies\":0},{\"no\":133573890,\"last_modified\":1589175773,\"replies\":13},{\"no\":133571520,\"last_modified\":1589175768,\"replies\":37},{\"no\":133563161,\"last_modified\":1589175765,\"replies\":56},{\"no\":133574388,\"last_modified\":1589175751,\"replies\":0},{\"no\":133572748,\"last_modified\":1589175750,\"replies\":10},{\"no\":133564424,\"last_modified\":1589175729,\"replies\":125}]},{\"page\":8,\"threads\":[{\"no\":133574057,\"last_modified\":1589175723,\"replies\":2},{\"no\":133574151,\"last_modified\":1589175705,\"replies\":2},{\"no\":133573476,\"last_modified\":1589175690,\"replies\":1},{\"no\":133573100,\"last_modified\":1589175592,\"replies\":3},{\"no\":133571558,\"last_modified\":1589175570,\"replies\":17},{\"no\":133571540,\"last_modified\":1589175565,\"replies\":8},{\"no\":133573783,\"last_modified\":1589175546,\"replies\":3},{\"no\":133572432,\"last_modified\":1589175539,\"replies\":3},{\"no\":133574131,\"last_modified\":1589175509,\"replies\":4},{\"no\":133572655,\"last_modified\":1589175489,\"replies\":9},{\"no\":133572482,\"last_modified\":1589175486,\"replies\":7},{\"no\":133572876,\"last_modified\":1589175468,\"replies\":35},{\"no\":133574179,\"last_modified\":1589175453,\"replies\":2},{\"no\":133573904,\"last_modified\":1589175436,\"replies\":1},{\"no\":133574209,\"last_modified\":1589175405,\"replies\":0}]},{\"page\":9,\"threads\":[{\"no\":133574081,\"last_modified\":1589175641,\"replies\":4},{\"no\":133564034,\"last_modified\":1589175389,\"replies\":33},{\"no\":133574183,\"last_modified\":1589175341,\"replies\":0},{\"no\":133572036,\"last_modified\":1589175366,\"replies\":16},{\"no\":133574066,\"last_modified\":1589175683,\"replies\":2},{\"no\":133572577,\"last_modified\":1589175270,\"replies\":80},{\"no\":133574145,\"last_modified\":1589175250,\"replies\":0},{\"no\":133573670,\"last_modified\":1589175212,\"replies\":7},{\"no\":133569696,\"last_modified\":1589175104,\"replies\":33},{\"no\":133565760,\"last_modified\":1589174984,\"replies\":54},{\"no\":133568173,\"last_modified\":1589174922,\"replies\":42},{\"no\":133573491,\"last_modified\":1589174816,\"replies\":6},{\"no\":133572778,\"last_modified\":1589174747,\"replies\":12},{\"no\":133573618,\"last_modified\":1589174735,\"replies\":11},{\"no\":133568410,\"last_modified\":1589174691,\"replies\":38}]},{\"page\":10,\"threads\":[{\"no\":133573105,\"last_modified\":1589174667,\"replies\":5},{\"no\":133571036,\"last_modified\":1589174546,\"replies\":23},{\"no\":133573583,\"last_modified\":1589174403,\"replies\":3},{\"no\":133573516,\"last_modified\":1589174367,\"replies\":4},{\"no\":133573592,\"last_modified\":1589174852,\"replies\":3},{\"no\":133573664,\"last_modified\":1589176733,\"replies\":10},{\"no\":133573659,\"last_modified\":1589174313,\"replies\":0},{\"no\":133573641,\"last_modified\":1589174809,\"replies\":2},{\"no\":133572594,\"last_modified\":1589174261,\"replies\":1},{\"no\":133571464,\"last_modified\":1589174200,\"replies\":19},{\"no\":133573577,\"last_modified\":1589174150,\"replies\":0},{\"no\":133573562,\"last_modified\":1589174124,\"replies\":0},{\"no\":133572752,\"last_modified\":1589174119,\"replies\":5},{\"no\":133569482,\"last_modified\":1589174118,\"replies\":5},{\"no\":133567571,\"last_modified\":1589174063,\"replies\":31}]}]\n",
            "https://a.4cdn.org/tv/thread/133573424.json\n",
            "https://a.4cdn.org/tv/thread/133570796.json\n",
            "https://a.4cdn.org/tv/thread/133573962.json\n",
            "https://a.4cdn.org/tv/thread/133572971.json\n",
            "https://a.4cdn.org/tv/thread/133574926.json\n",
            "https://a.4cdn.org/tv/thread/133571251.json\n",
            "https://a.4cdn.org/tv/thread/133574068.json\n",
            "https://a.4cdn.org/tv/thread/133564683.json\n",
            "https://a.4cdn.org/tv/thread/133572712.json\n",
            "https://a.4cdn.org/tv/thread/133574195.json\n",
            "https://a.4cdn.org/tv/thread/133574470.json\n",
            "https://a.4cdn.org/tv/thread/133572106.json\n",
            "https://a.4cdn.org/tv/thread/133566622.json\n",
            "https://a.4cdn.org/tv/thread/133560714.json\n",
            "https://a.4cdn.org/tv/thread/133573810.json\n",
            "https://a.4cdn.org/tv/thread/133574060.json\n",
            "https://a.4cdn.org/tv/thread/133563920.json\n",
            "https://a.4cdn.org/tv/thread/133571119.json\n",
            "https://a.4cdn.org/tv/thread/133571348.json\n",
            "https://a.4cdn.org/tv/thread/133569911.json\n",
            "https://a.4cdn.org/tv/thread/133571507.json\n",
            "https://a.4cdn.org/tv/thread/133574869.json\n",
            "https://a.4cdn.org/tv/thread/133553916.json\n",
            "https://a.4cdn.org/tv/thread/133571171.json\n",
            "https://a.4cdn.org/tv/thread/133574390.json\n",
            "https://a.4cdn.org/tv/thread/133562972.json\n",
            "https://a.4cdn.org/tv/thread/133572562.json\n",
            "https://a.4cdn.org/tv/thread/133574315.json\n",
            "https://a.4cdn.org/tv/thread/133561131.json\n",
            "https://a.4cdn.org/tv/thread/133569199.json\n",
            "https://a.4cdn.org/tv/thread/133573422.json\n",
            "https://a.4cdn.org/tv/thread/133574003.json\n",
            "https://a.4cdn.org/tv/thread/133559452.json\n",
            "https://a.4cdn.org/tv/thread/133574862.json\n",
            "https://a.4cdn.org/tv/thread/133572738.json\n",
            "https://a.4cdn.org/tv/thread/133572648.json\n",
            "https://a.4cdn.org/tv/thread/133571258.json\n",
            "https://a.4cdn.org/tv/thread/133565471.json\n",
            "https://a.4cdn.org/tv/thread/133570057.json\n",
            "https://a.4cdn.org/tv/thread/133574720.json\n",
            "https://a.4cdn.org/tv/thread/133566416.json\n",
            "https://a.4cdn.org/tv/thread/133572710.json\n",
            "https://a.4cdn.org/tv/thread/133574834.json\n",
            "https://a.4cdn.org/tv/thread/133570772.json\n",
            "https://a.4cdn.org/tv/thread/133573368.json\n",
            "https://a.4cdn.org/tv/thread/133574657.json\n",
            "https://a.4cdn.org/tv/thread/133566349.json\n",
            "https://a.4cdn.org/tv/thread/133574444.json\n",
            "https://a.4cdn.org/tv/thread/133572769.json\n",
            "https://a.4cdn.org/tv/thread/133564167.json\n",
            "https://a.4cdn.org/tv/thread/133552774.json\n",
            "https://a.4cdn.org/tv/thread/133569053.json\n",
            "https://a.4cdn.org/tv/thread/133570720.json\n",
            "https://a.4cdn.org/tv/thread/133574213.json\n",
            "https://a.4cdn.org/tv/thread/133572884.json\n",
            "https://a.4cdn.org/tv/thread/133572930.json\n",
            "https://a.4cdn.org/tv/thread/133574510.json\n",
            "https://a.4cdn.org/tv/thread/133574769.json\n",
            "https://a.4cdn.org/tv/thread/133573262.json\n",
            "https://a.4cdn.org/tv/thread/133574603.json\n",
            "https://a.4cdn.org/tv/thread/133572994.json\n",
            "https://a.4cdn.org/tv/thread/133574307.json\n",
            "https://a.4cdn.org/tv/thread/133574739.json\n",
            "https://a.4cdn.org/tv/thread/133574325.json\n",
            "https://a.4cdn.org/tv/thread/133562105.json\n",
            "https://a.4cdn.org/tv/thread/133571983.json\n",
            "https://a.4cdn.org/tv/thread/133569740.json\n",
            "https://a.4cdn.org/tv/thread/133573060.json\n",
            "https://a.4cdn.org/tv/thread/133568498.json\n",
            "https://a.4cdn.org/tv/thread/133570141.json\n",
            "https://a.4cdn.org/tv/thread/133574596.json\n",
            "https://a.4cdn.org/tv/thread/133571106.json\n",
            "https://a.4cdn.org/tv/thread/133573320.json\n",
            "https://a.4cdn.org/tv/thread/133566507.json\n",
            "https://a.4cdn.org/tv/thread/133562774.json\n",
            "https://a.4cdn.org/tv/thread/133573847.json\n",
            "https://a.4cdn.org/tv/thread/133571203.json\n",
            "https://a.4cdn.org/tv/thread/133571751.json\n",
            "https://a.4cdn.org/tv/thread/133574625.json\n",
            "https://a.4cdn.org/tv/thread/133572836.json\n",
            "https://a.4cdn.org/tv/thread/133572047.json\n",
            "https://a.4cdn.org/tv/thread/133574517.json\n",
            "https://a.4cdn.org/tv/thread/133572520.json\n",
            "https://a.4cdn.org/tv/thread/133573991.json\n",
            "https://a.4cdn.org/tv/thread/133574561.json\n",
            "https://a.4cdn.org/tv/thread/133571635.json\n",
            "https://a.4cdn.org/tv/thread/133572496.json\n",
            "https://a.4cdn.org/tv/thread/133574522.json\n",
            "https://a.4cdn.org/tv/thread/133569461.json\n",
            "https://a.4cdn.org/tv/thread/133570328.json\n",
            "https://a.4cdn.org/tv/thread/133573965.json\n",
            "https://a.4cdn.org/tv/thread/133574477.json\n",
            "https://a.4cdn.org/tv/thread/133574288.json\n",
            "https://a.4cdn.org/tv/thread/133569530.json\n",
            "https://a.4cdn.org/tv/thread/133566489.json\n",
            "https://a.4cdn.org/tv/thread/133569050.json\n",
            "https://a.4cdn.org/tv/thread/133574178.json\n",
            "https://a.4cdn.org/tv/thread/133574424.json\n",
            "https://a.4cdn.org/tv/thread/133574423.json\n",
            "https://a.4cdn.org/tv/thread/133573890.json\n",
            "https://a.4cdn.org/tv/thread/133571520.json\n",
            "https://a.4cdn.org/tv/thread/133563161.json\n",
            "https://a.4cdn.org/tv/thread/133574388.json\n",
            "https://a.4cdn.org/tv/thread/133572748.json\n",
            "https://a.4cdn.org/tv/thread/133564424.json\n",
            "watching Lolita with younger sisterturn and look at herwithout looking back she says &quot;dont get any fucking stupid ideas&quot;o-okay\n",
            "thats nasty you dumb cuntgotim\n",
            "thingsthatdidnthappen.jpg\n",
            "I would have whipped out my dick right there.\n",
            "daily reminder this is the absolute best version of Lolita, and it was released on based 90s Showtime.\n",
            "watching Lolita with younger sisterturn and look at hershes passed out from tramadol cocktail i made her earlierimpregnate\n",
            "no the kubrick one is funnier\n",
            "why is irons so based? he even made brooker seethe by stating facts\n",
            "watching Lolita with 11.5 yo cousin she touches my bicep &quot;solid&quot;\n",
            "Lolita isnt supposed to be funny you absolute cuck. the 90s version the actress is 19, but she looks 15, so she can do all kinds of shit. it is almost porno tier, which showtime did air at that time.\n",
            "\n",
            "its different than the book, that means its bad\n",
            "I stopped reading the book she said she was raped in summer camp\n",
            "Based\n",
            "As Dominique Swain was a minor at age 15 when the movie was filmed, an adult body double had to be used for most of the sex scenes.\n",
            "\n",
            "i actually think the book is not sexual at all. i got more boners per page from random girl and boy go to an island books in my library. the book version of lolita is actually sort of scary. it is an idealization of girls for men. and that is wrong. 15 year old girls should be experimenting, but with 15 year old boys. and the kubrik interpritation was like you said a laugh fest. because it was retarded as fuck.but the 90s showtime version was like fucking porn.\n",
            "Watching kino in my room14 year old cousin comes in and slams the door shutTells me to put on the princess diaries and scoot over on the bedWhat do?\n",
            "This doesn’t happen\n",
            "the russian version is the funniest\n"
          ],
          "name": "stdout"
        }
      ]
    },
    {
      "cell_type": "code",
      "metadata": {
        "id": "uBMgfWPn5Rwr",
        "colab_type": "code",
        "outputId": "865b33fb-aaae-41c2-9398-c0639c7cca69",
        "colab": {
          "base_uri": "https://localhost:8080/",
          "height": 34
        }
      },
      "source": [
        "'''\n",
        "Exploratory Data Analysis\n",
        "'''\n",
        "\n",
        "'''Average Number of messages for each channel'''"
      ],
      "execution_count": 8,
      "outputs": [
        {
          "output_type": "execute_result",
          "data": {
            "text/plain": [
              "'Average Number of messages for each channel'"
            ]
          },
          "metadata": {
            "tags": []
          },
          "execution_count": 8
        }
      ]
    },
    {
      "cell_type": "code",
      "metadata": {
        "id": "aNm49b89ex4z",
        "colab_type": "code",
        "colab": {}
      },
      "source": [
        "messages_per_thread_ck = sum(messages_each_thread_ck)/len(messages_each_thread_ck)\n",
        "messages_per_thread_literature = sum(messages_each_thread_literature)/len(messages_each_thread_literature)\n",
        "messages_per_thread_technology = sum(messages_each_thread_technology)/len(messages_each_thread_technology)\n",
        "messages_per_thread_tv = sum(messages_each_thread_tv)/len(messages_each_thread_tv)"
      ],
      "execution_count": 0,
      "outputs": []
    },
    {
      "cell_type": "code",
      "metadata": {
        "id": "aC35Vvb7e_sh",
        "colab_type": "code",
        "outputId": "000f202d-170b-4d79-f5b8-4fabf0fbd8ea",
        "colab": {
          "base_uri": "https://localhost:8080/",
          "height": 84
        }
      },
      "source": [
        "print ('messages per thread for Food and Cooking', messages_per_thread_ck)\n",
        "print ('messages per thread for TV', messages_per_thread_tv)\n",
        "print ('messages per thread for technology', messages_per_thread_technology)\n",
        "print ('messages per thread for literature', messages_per_thread_literature)\n",
        "\n"
      ],
      "execution_count": 10,
      "outputs": [
        {
          "output_type": "stream",
          "text": [
            "messages per thread for Food and Cooking 39.84761904761905\n",
            "messages per thread for TV 38.38095238095238\n",
            "messages per thread for technology 52.647619047619045\n",
            "messages per thread for literature 36.04761904761905\n"
          ],
          "name": "stdout"
        }
      ]
    },
    {
      "cell_type": "code",
      "metadata": {
        "id": "KooskgBDF25P",
        "colab_type": "code",
        "colab": {
          "base_uri": "https://localhost:8080/",
          "height": 34
        },
        "outputId": "ef0c1599-c14f-4c9f-b072-e31fce72fb43"
      },
      "source": [
        "'''\n",
        "Average Length of each post for each channel\n",
        "'''"
      ],
      "execution_count": 11,
      "outputs": [
        {
          "output_type": "execute_result",
          "data": {
            "text/plain": [
              "'\\nAverage Length of each post for each channel\\n'"
            ]
          },
          "metadata": {
            "tags": []
          },
          "execution_count": 11
        }
      ]
    },
    {
      "cell_type": "code",
      "metadata": {
        "id": "In3IhVdLGBSe",
        "colab_type": "code",
        "colab": {}
      },
      "source": [
        "from nltk.tokenize import word_tokenize\n",
        "from nltk.probability import FreqDist\n",
        "from nltk.corpus import stopwords\n",
        "literature_word_count=[]\n",
        "stop_words=set(stopwords.words(\"english\"))\n",
        "for comment in literature_comments:\n",
        "  tokenized=word_tokenize(comment)\n",
        "  tokenized=[word for word in tokenized if word.isalnum()]\n",
        "  literature_word_count.append(len(tokenized))\n",
        "\n",
        "average_word_count_literature = sum(literature_word_count)/len(literature_word_count)\n"
      ],
      "execution_count": 0,
      "outputs": []
    },
    {
      "cell_type": "code",
      "metadata": {
        "id": "FFP7HvLoHPIY",
        "colab_type": "code",
        "colab": {}
      },
      "source": [
        "from nltk.tokenize import word_tokenize\n",
        "from nltk.probability import FreqDist\n",
        "from nltk.corpus import stopwords\n",
        "technology_word_count=[]\n",
        "stop_words=set(stopwords.words(\"english\"))\n",
        "for comment in technology_comments:\n",
        "  tokenized=word_tokenize(comment)\n",
        "  tokenized=[word for word in tokenized if word.isalnum()]\n",
        "  technology_word_count.append(len(tokenized))\n",
        "\n",
        "average_word_count_technology = sum(technology_word_count)/len(technology_word_count)\n"
      ],
      "execution_count": 0,
      "outputs": []
    },
    {
      "cell_type": "code",
      "metadata": {
        "id": "1ZyTWovEHrd5",
        "colab_type": "code",
        "colab": {}
      },
      "source": [
        "from nltk.tokenize import word_tokenize\n",
        "from nltk.probability import FreqDist\n",
        "from nltk.corpus import stopwords\n",
        "ck_word_count=[]\n",
        "stop_words=set(stopwords.words(\"english\"))\n",
        "for comment in technology_comments:\n",
        "  tokenized=word_tokenize(comment)\n",
        "  tokenized=[word for word in tokenized if word.isalnum()]\n",
        "  ck_word_count.append(len(tokenized))\n",
        "\n",
        "average_word_count_ck = sum(ck_word_count)/len(ck_word_count)"
      ],
      "execution_count": 0,
      "outputs": []
    },
    {
      "cell_type": "code",
      "metadata": {
        "id": "grvBzNBkH2LS",
        "colab_type": "code",
        "colab": {}
      },
      "source": [
        "from nltk.tokenize import word_tokenize\n",
        "from nltk.probability import FreqDist\n",
        "from nltk.corpus import stopwords\n",
        "tv_word_count=[]\n",
        "stop_words=set(stopwords.words(\"english\"))\n",
        "for comment in technology_comments:\n",
        "  tokenized=word_tokenize(comment)\n",
        "  tokenized=[word for word in tokenized if word.isalnum()]\n",
        "  tv_word_count.append(len(tokenized))\n",
        "\n",
        "average_word_count_tv = sum(tv_word_count)/len(tv_word_count)"
      ],
      "execution_count": 0,
      "outputs": []
    },
    {
      "cell_type": "code",
      "metadata": {
        "id": "gUWCGM_YIBx6",
        "colab_type": "code",
        "colab": {
          "base_uri": "https://localhost:8080/",
          "height": 84
        },
        "outputId": "4bb69772-90f2-4cab-b95f-5ca6ca13441d"
      },
      "source": [
        "print ('Average length id each post for Food and Cooking:', average_word_count_ck)\n",
        "print ('Average length id each post for TV:', average_word_count_tv)\n",
        "print ('Average length id each post for technology:', average_word_count_technology)\n",
        "print ('Average length id each post for literature:', average_word_count_literature)"
      ],
      "execution_count": 16,
      "outputs": [
        {
          "output_type": "stream",
          "text": [
            "Average length id each post for Food and Cooking: 24.396526772793052\n",
            "Average length id each post for TV: 24.396526772793052\n",
            "Average length id each post for technology: 24.396526772793052\n",
            "Average length id each post for literature: 27.67107001321004\n"
          ],
          "name": "stdout"
        }
      ]
    },
    {
      "cell_type": "code",
      "metadata": {
        "id": "LHE3Taae5eNr",
        "colab_type": "code",
        "outputId": "6a18c2fb-4e11-49c4-e94c-cad6df1389b2",
        "colab": {
          "base_uri": "https://localhost:8080/",
          "height": 34
        }
      },
      "source": [
        "'''\n",
        "Top 100 Frequent Words for each channel\n",
        "'''"
      ],
      "execution_count": 17,
      "outputs": [
        {
          "output_type": "execute_result",
          "data": {
            "text/plain": [
              "'\\nTop 100 Frequent Words for each channel\\n'"
            ]
          },
          "metadata": {
            "tags": []
          },
          "execution_count": 17
        }
      ]
    },
    {
      "cell_type": "code",
      "metadata": {
        "id": "qZcKPpc9hmpE",
        "colab_type": "code",
        "outputId": "42125593-cf5f-4931-d802-aaf2de822946",
        "colab": {
          "base_uri": "https://localhost:8080/",
          "height": 54
        }
      },
      "source": [
        "from nltk.tokenize import word_tokenize\n",
        "from nltk.probability import FreqDist\n",
        "from nltk.corpus import stopwords\n",
        "literature_words=[]\n",
        "stop_words=set(stopwords.words(\"english\"))\n",
        "for comment in literature_comments:\n",
        "  tokenized=word_tokenize(comment)\n",
        "  literature_words = literature_words + tokenized\n",
        "literature_words= [word for word in literature_words if word.isalnum()]\n",
        "literature_words= [word for word in literature_words if word not in stop_words]\n",
        "\n",
        "frequency_literature = FreqDist(literature_words)\n",
        "print (frequency_literature.most_common(100))"
      ],
      "execution_count": 18,
      "outputs": [
        {
          "output_type": "stream",
          "text": [
            "[('I', 1711), ('quot', 842), ('like', 407), ('The', 400), ('would', 347), ('people', 313), ('dont', 304), ('read', 272), ('one', 270), ('think', 259), ('Im', 239), ('get', 212), ('even', 201), ('good', 200), ('time', 193), ('know', 186), ('really', 182), ('something', 178), ('want', 176), ('You', 164), ('It', 164), ('much', 153), ('If', 148), ('say', 143), ('way', 140), ('Its', 135), ('things', 134), ('life', 134), ('could', 130), ('youre', 129), ('still', 124), ('This', 123), ('see', 123), ('make', 121), ('reading', 120), ('cant', 120), ('anything', 117), ('class', 117), ('go', 116), ('thing', 115), ('A', 113), ('right', 113), ('books', 111), ('real', 108), ('What', 106), ('never', 105), ('actually', 105), ('mean', 105), ('fucking', 104), ('Ive', 103), ('going', 101), ('point', 100), ('book', 99), ('though', 98), ('well', 98), ('also', 98), ('doesnt', 98), ('need', 97), ('feel', 96), ('shit', 95), ('anon', 93), ('wrong', 90), ('work', 90), ('first', 89), ('man', 89), ('back', 88), ('isnt', 88), ('everything', 88), ('world', 86), ('years', 85), ('But', 85), ('based', 84), ('got', 82), ('better', 82), ('nothing', 81), ('two', 80), ('fuck', 77), ('ever', 77), ('thats', 77), ('women', 77), ('take', 76), ('bad', 76), ('find', 76), ('day', 75), ('Why', 73), ('every', 73), ('reality', 73), ('without', 71), ('new', 70), ('made', 70), ('And', 70), ('great', 70), ('So', 69), ('men', 69), ('might', 69), ('around', 67), ('last', 67), ('No', 67), ('makes', 67), ('probably', 66)]\n"
          ],
          "name": "stdout"
        }
      ]
    },
    {
      "cell_type": "code",
      "metadata": {
        "id": "LLwTv-qdloXH",
        "colab_type": "code",
        "outputId": "1be39d88-bb02-46ab-9bbc-5f12f510cbea",
        "colab": {
          "base_uri": "https://localhost:8080/",
          "height": 54
        }
      },
      "source": [
        "from nltk.tokenize import word_tokenize\n",
        "from nltk.probability import FreqDist\n",
        "from nltk.corpus import stopwords\n",
        "technology_words=[]\n",
        "stop_words=set(stopwords.words(\"english\"))\n",
        "for comment in technology_comments:\n",
        "  tokenized=word_tokenize(comment)\n",
        "  technology_words = technology_words + tokenized\n",
        "technology_words= [word for word in technology_words if word.isalnum()]\n",
        "technology_words= [word for word in technology_words if word not in stop_words]\n",
        "\n",
        "frequency_technology = FreqDist(technology_words)\n",
        "print (frequency_technology.most_common(100))"
      ],
      "execution_count": 19,
      "outputs": [
        {
          "output_type": "stream",
          "text": [
            "[('I', 2153), ('quot', 815), ('like', 659), ('use', 511), ('dont', 507), ('get', 487), ('one', 374), ('good', 352), ('Im', 350), ('want', 336), ('know', 294), ('even', 291), ('shit', 286), ('need', 286), ('would', 280), ('youre', 254), ('The', 249), ('something', 246), ('really', 243), ('using', 238), ('people', 238), ('better', 233), ('make', 230), ('new', 222), ('way', 215), ('time', 214), ('think', 211), ('You', 209), ('much', 208), ('doesnt', 202), ('Its', 199), ('also', 197), ('fucking', 193), ('cant', 187), ('going', 186), ('still', 185), ('work', 185), ('If', 165), ('fuck', 158), ('https', 155), ('could', 153), ('go', 152), ('right', 151), ('anything', 149), ('buy', 147), ('It', 147), ('got', 141), ('thats', 141), ('used', 140), ('years', 140), ('Windows', 140), ('probably', 139), ('What', 138), ('see', 135), ('actually', 133), ('best', 127), ('since', 125), ('though', 123), ('Ive', 122), ('well', 122), ('every', 120), ('pretty', 118), ('isnt', 118), ('run', 116), ('point', 115), ('sure', 114), ('case', 114), ('phone', 113), ('Is', 112), ('amp', 111), ('first', 110), ('thing', 108), ('everything', 106), ('already', 106), ('How', 106), ('look', 106), ('enough', 104), ('windows', 104), ('install', 102), ('1', 102), ('This', 100), ('never', 100), ('without', 100), ('2', 100), ('getting', 100), ('3', 100), ('find', 99), ('Why', 97), ('back', 96), ('didnt', 96), ('old', 94), ('try', 92), ('always', 92), ('trying', 92), ('based', 91), ('works', 91), ('stuff', 91), ('around', 91), ('might', 90), ('help', 90)]\n"
          ],
          "name": "stdout"
        }
      ]
    },
    {
      "cell_type": "code",
      "metadata": {
        "id": "oIGd7MuHmQlc",
        "colab_type": "code",
        "outputId": "2d12b250-6eeb-4306-9fba-7f14d27986ae",
        "colab": {
          "base_uri": "https://localhost:8080/",
          "height": 54
        }
      },
      "source": [
        "from nltk.tokenize import word_tokenize\n",
        "from nltk.probability import FreqDist\n",
        "from nltk.corpus import stopwords\n",
        "ck_words=[]\n",
        "stop_words=set(stopwords.words(\"english\"))\n",
        "for comment in ck_comments:\n",
        "  tokenized=word_tokenize(comment)\n",
        "  ck_words = ck_words + tokenized\n",
        "ck_words= [word for word in ck_words if word.isalnum()]\n",
        "ck_words= [word for word in ck_words if word not in stop_words]\n",
        "\n",
        "frequency_ck = FreqDist(ck_words)\n",
        "print (frequency_ck.most_common(100))"
      ],
      "execution_count": 20,
      "outputs": [
        {
          "output_type": "stream",
          "text": [
            "[('I', 1549), ('like', 560), ('quot', 376), ('get', 275), ('food', 271), ('good', 268), ('dont', 263), ('one', 234), ('people', 225), ('would', 224), ('shit', 219), ('make', 201), ('Im', 193), ('fucking', 179), ('The', 178), ('eat', 167), ('really', 165), ('go', 164), ('want', 150), ('Its', 145), ('fuck', 144), ('know', 144), ('You', 141), ('time', 137), ('much', 137), ('better', 135), ('got', 130), ('even', 129), ('pretty', 126), ('still', 124), ('think', 124), ('youre', 118), ('never', 104), ('Ive', 103), ('thats', 99), ('way', 99), ('going', 97), ('It', 97), ('beer', 97), ('though', 96), ('water', 95), ('also', 95), ('use', 93), ('tea', 93), ('meat', 92), ('cheese', 91), ('work', 90), ('something', 89), ('back', 88), ('could', 87), ('actually', 86), ('always', 86), ('drink', 86), ('right', 85), ('cant', 85), ('If', 82), ('ever', 82), ('made', 82), ('What', 81), ('lot', 81), ('chicken', 81), ('place', 79), ('day', 78), ('thing', 77), ('nice', 77), ('anything', 76), ('looks', 76), ('eating', 75), ('little', 74), ('theyre', 74), ('take', 73), ('best', 73), ('used', 72), ('didnt', 72), ('years', 69), ('restaurant', 68), ('doesnt', 67), ('old', 66), ('say', 66), ('try', 66), ('white', 66), ('bad', 65), ('life', 65), ('This', 65), ('based', 64), ('They', 64), ('sure', 63), ('feel', 63), ('need', 62), ('look', 62), ('taste', 62), ('live', 61), ('makes', 61), ('making', 60), ('isnt', 60), ('around', 59), ('probably', 59), ('animals', 59), ('Why', 58), ('That', 58)]\n"
          ],
          "name": "stdout"
        }
      ]
    },
    {
      "cell_type": "code",
      "metadata": {
        "id": "rVIf8kwzm1GP",
        "colab_type": "code",
        "outputId": "63bd5085-23d0-4877-9ef0-05e0e215bd22",
        "colab": {
          "base_uri": "https://localhost:8080/",
          "height": 54
        }
      },
      "source": [
        "from nltk.tokenize import word_tokenize\n",
        "from nltk.probability import FreqDist\n",
        "from nltk.corpus import stopwords\n",
        "tv_words=[]\n",
        "stop_words=set(stopwords.words(\"english\"))\n",
        "for comment in tv_comments:\n",
        "  tokenized=word_tokenize(comment)\n",
        "  tv_words = tv_words + tokenized\n",
        "tv_words= [word for word in tv_words if word.isalnum()]\n",
        "tv_words= [word for word in tv_words if word not in stop_words]\n",
        "\n",
        "frequency_tv = FreqDist(tv_words)\n",
        "print (frequency_tv.most_common(100))"
      ],
      "execution_count": 21,
      "outputs": [
        {
          "output_type": "stream",
          "text": [
            "[('I', 966), ('like', 410), ('quot', 357), ('would', 225), ('one', 206), ('The', 205), ('dont', 185), ('get', 182), ('shit', 165), ('movie', 155), ('fucking', 147), ('think', 139), ('time', 138), ('people', 134), ('know', 131), ('even', 128), ('good', 128), ('Im', 123), ('really', 121), ('fuck', 119), ('based', 113), ('You', 109), ('never', 106), ('see', 103), ('Its', 103), ('https', 102), ('got', 101), ('women', 96), ('bad', 95), ('could', 95), ('want', 94), ('It', 93), ('right', 92), ('youre', 90), ('way', 90), ('go', 89), ('make', 89), ('This', 88), ('film', 87), ('actually', 86), ('guy', 86), ('back', 83), ('show', 83), ('He', 81), ('thats', 80), ('thing', 79), ('What', 77), ('cant', 76), ('much', 75), ('still', 72), ('And', 71), ('man', 71), ('look', 70), ('ever', 70), ('doesnt', 69), ('best', 68), ('didnt', 68), ('old', 67), ('love', 67), ('watch', 67), ('mean', 66), ('men', 65), ('something', 64), ('looks', 63), ('hes', 62), ('movies', 62), ('white', 61), ('every', 61), ('A', 60), ('great', 59), ('episode', 59), ('made', 58), ('also', 58), ('thread', 58), ('pretty', 57), ('If', 56), ('life', 56), ('going', 55), ('always', 55), ('say', 55), ('little', 54), ('probably', 54), ('ass', 54), ('first', 54), ('better', 53), ('someone', 53), ('years', 53), ('well', 53), ('said', 52), ('kino', 52), ('scene', 52), ('They', 52), ('post', 51), ('literally', 51), ('real', 51), ('big', 51), ('though', 51), ('work', 50), ('point', 50), ('need', 49)]\n"
          ],
          "name": "stdout"
        }
      ]
    },
    {
      "cell_type": "code",
      "metadata": {
        "id": "zbYBpcCspSmr",
        "colab_type": "code",
        "outputId": "830fa6a7-5447-4b32-eeba-4ca0a55c2f47",
        "colab": {
          "base_uri": "https://localhost:8080/",
          "height": 34
        }
      },
      "source": [
        "'''\n",
        "Sentiment Polarization of posts from each channel\n",
        "'''"
      ],
      "execution_count": 22,
      "outputs": [
        {
          "output_type": "execute_result",
          "data": {
            "text/plain": [
              "'\\nSentiment Polarization of posts from each channel\\n'"
            ]
          },
          "metadata": {
            "tags": []
          },
          "execution_count": 22
        }
      ]
    },
    {
      "cell_type": "code",
      "metadata": {
        "id": "ETsfRARipS7F",
        "colab_type": "code",
        "outputId": "bd02820a-603e-4d58-e984-d7fb14ffe210",
        "colab": {
          "base_uri": "https://localhost:8080/",
          "height": 50
        }
      },
      "source": [
        "from textblob import TextBlob\n",
        "sentiment_literature = []\n",
        "for comment in literature_comments:\n",
        "  comment = TextBlob(comment)\n",
        "  polarity = comment.sentiment.polarity\n",
        "  sentiment_literature.append(polarity)\n",
        "average_sentiment_literature = sum(sentiment_literature)/len(sentiment_literature)\n",
        "print (average_sentiment_literature)\n",
        "print ('Average Sentiment for Literature:',average_sentiment_literature)\n",
        "\n"
      ],
      "execution_count": 23,
      "outputs": [
        {
          "output_type": "stream",
          "text": [
            "0.05032146903865207\n",
            "Average Sentiment for Literature: 0.05032146903865207\n"
          ],
          "name": "stdout"
        }
      ]
    },
    {
      "cell_type": "code",
      "metadata": {
        "id": "-CqFCF0htYhj",
        "colab_type": "code",
        "outputId": "deb967af-8dc4-447d-a2f1-9c747aaea16b",
        "colab": {
          "base_uri": "https://localhost:8080/",
          "height": 34
        }
      },
      "source": [
        "from textblob import TextBlob\n",
        "sentiment_technology = []\n",
        "for comment in technology_comments:\n",
        "  comment = TextBlob(comment)\n",
        "  polarity = comment.sentiment.polarity\n",
        "  sentiment_technology.append(polarity)\n",
        "average_sentiment_technology = sum(sentiment_technology)/len(sentiment_technology)\n",
        "print ('Average Sentiment for Technology:',average_sentiment_technology)"
      ],
      "execution_count": 24,
      "outputs": [
        {
          "output_type": "stream",
          "text": [
            "Average Sentiment for Technology: 0.05064011788209612\n"
          ],
          "name": "stdout"
        }
      ]
    },
    {
      "cell_type": "code",
      "metadata": {
        "id": "pKF3yKoktx_T",
        "colab_type": "code",
        "outputId": "614fc127-24dc-4534-ca4b-cd74be05bdfd",
        "colab": {
          "base_uri": "https://localhost:8080/",
          "height": 34
        }
      },
      "source": [
        "from textblob import TextBlob\n",
        "sentiment_ck = []\n",
        "for comment in ck_comments:\n",
        "  comment = TextBlob(comment)\n",
        "  polarity = comment.sentiment.polarity\n",
        "  sentiment_ck.append(polarity)\n",
        "average_sentiment_ck = sum(sentiment_ck)/len(sentiment_ck)\n",
        "print ('Average Sentiment for Food and Cooking:', average_sentiment_ck)"
      ],
      "execution_count": 25,
      "outputs": [
        {
          "output_type": "stream",
          "text": [
            "Average Sentiment for Food and Cooking: 0.029770975986976513\n"
          ],
          "name": "stdout"
        }
      ]
    },
    {
      "cell_type": "code",
      "metadata": {
        "id": "Yk_cIkHSxH8L",
        "colab_type": "code",
        "outputId": "fadd4baf-7d34-45c4-a33e-1009ce3522cc",
        "colab": {
          "base_uri": "https://localhost:8080/",
          "height": 34
        }
      },
      "source": [
        "from textblob import TextBlob\n",
        "sentiment_tv = []\n",
        "for comment in tv_comments:\n",
        "  comment = TextBlob(comment)\n",
        "  polarity = comment.sentiment.polarity\n",
        "  sentiment_tv.append(polarity)\n",
        "average_sentiment_tv = sum(sentiment_tv)/len(sentiment_tv)\n",
        "print ('Average Sentiment for TV & Films', average_sentiment_tv)"
      ],
      "execution_count": 26,
      "outputs": [
        {
          "output_type": "stream",
          "text": [
            "Average Sentiment for TV & Films 0.03601624911899331\n"
          ],
          "name": "stdout"
        }
      ]
    },
    {
      "cell_type": "code",
      "metadata": {
        "id": "2qtFC5py5_sy",
        "colab_type": "code",
        "colab": {
          "base_uri": "https://localhost:8080/",
          "height": 34
        },
        "outputId": "b4a5b978-5426-42df-aac6-c1e2a63aaa09"
      },
      "source": [
        "'''\n",
        "Discriminative Analysis\n",
        "'''\n",
        "\n",
        "'''\n",
        "Finding Words that are key for each channel\n",
        "'''\n"
      ],
      "execution_count": 27,
      "outputs": [
        {
          "output_type": "execute_result",
          "data": {
            "text/plain": [
              "'\\nFinding Words that are key for each channel\\n'"
            ]
          },
          "metadata": {
            "tags": []
          },
          "execution_count": 27
        }
      ]
    },
    {
      "cell_type": "code",
      "metadata": {
        "id": "1yBoeqSNyvYb",
        "colab_type": "code",
        "colab": {}
      },
      "source": [
        "frequent_top_200_words_literature = [word[0] for word in frequency_literature.most_common(200)]\n",
        "frequent_top_200_words_technology = [word[0] for word in frequency_technology.most_common(200)]\n",
        "frequent_top_200_words_ck = [word[0] for word in frequency_ck.most_common(200)]\n",
        "frequent_top_200_words_tv = [word[0] for word in frequency_tv.most_common(200)]"
      ],
      "execution_count": 0,
      "outputs": []
    },
    {
      "cell_type": "code",
      "metadata": {
        "id": "HIjFRY-Uz22T",
        "colab_type": "code",
        "outputId": "138672fd-e929-4099-e89d-3335a943c390",
        "colab": {
          "base_uri": "https://localhost:8080/",
          "height": 689
        }
      },
      "source": [
        "unique_frequent_words_literature = []\n",
        "for word in frequent_top_200_words_literature:\n",
        "  if (word not in frequent_top_200_words_technology) and (word not in frequent_top_200_words_tv) and (word not in frequent_top_200_words_ck):\n",
        "    unique_frequent_words_literature.append(word)\n",
        "unique_frequent_words_literature"
      ],
      "execution_count": 29,
      "outputs": [
        {
          "output_type": "execute_result",
          "data": {
            "text/plain": [
              "['read',\n",
              " 'reading',\n",
              " 'class',\n",
              " 'books',\n",
              " 'world',\n",
              " 'reality',\n",
              " 'sense',\n",
              " 'believe',\n",
              " 'philosophy',\n",
              " 'In',\n",
              " 'start',\n",
              " 'become',\n",
              " 'God',\n",
              " 'human',\n",
              " 'age',\n",
              " 'argument',\n",
              " 'children',\n",
              " 'simply',\n",
              " 'far',\n",
              " 'away',\n",
              " 'person',\n",
              " 'average',\n",
              " 'idea',\n",
              " 'roll',\n",
              " 'literature',\n",
              " 'means',\n",
              " 'living',\n",
              " 'writing',\n",
              " 'left',\n",
              " 'free',\n",
              " 'seems',\n",
              " 'true',\n",
              " 'sexual',\n",
              " 'order',\n",
              " 'interesting',\n",
              " 'existence',\n",
              " 'exist',\n",
              " 'entire',\n",
              " 'question',\n",
              " 'etc']"
            ]
          },
          "metadata": {
            "tags": []
          },
          "execution_count": 29
        }
      ]
    },
    {
      "cell_type": "code",
      "metadata": {
        "id": "a-NTf0IN1ih6",
        "colab_type": "code",
        "outputId": "7f278f8f-ba70-456c-d9ff-ac3f6c1592ac",
        "colab": {
          "base_uri": "https://localhost:8080/",
          "height": 806
        }
      },
      "source": [
        "unique_frequent_words_technology = []\n",
        "for word in frequent_top_200_words_technology:\n",
        "  if (word not in frequent_top_200_words_literature) and (word not in frequent_top_200_words_tv) and (word not in frequent_top_200_words_ck):\n",
        "    unique_frequent_words_technology.append(word)\n",
        "unique_frequent_words_technology"
      ],
      "execution_count": 30,
      "outputs": [
        {
          "output_type": "execute_result",
          "data": {
            "text/plain": [
              "['using',\n",
              " 'Windows',\n",
              " 'run',\n",
              " 'case',\n",
              " 'phone',\n",
              " 'amp',\n",
              " 'windows',\n",
              " 'install',\n",
              " '1',\n",
              " '3',\n",
              " 'works',\n",
              " 'help',\n",
              " 'code',\n",
              " 'system',\n",
              " 'software',\n",
              " 'computer',\n",
              " '10',\n",
              " 'tried',\n",
              " 'lt',\n",
              " 'support',\n",
              " 'Linux',\n",
              " 'build',\n",
              " 'file',\n",
              " 'job',\n",
              " 'C',\n",
              " 'hardware',\n",
              " 'laptop',\n",
              " 'music',\n",
              " 'linux',\n",
              " 'price',\n",
              " 'learn',\n",
              " 'working',\n",
              " 'CPU',\n",
              " 'board',\n",
              " 'desktop',\n",
              " 'set',\n",
              " 'language',\n",
              " 'running',\n",
              " 'replace',\n",
              " 'buying',\n",
              " 'single',\n",
              " 'wont',\n",
              " '5',\n",
              " 'Also',\n",
              " 'ones',\n",
              " 'Whats',\n",
              " 'type']"
            ]
          },
          "metadata": {
            "tags": []
          },
          "execution_count": 30
        }
      ]
    },
    {
      "cell_type": "code",
      "metadata": {
        "id": "Z8j7uY-R13ls",
        "colab_type": "code",
        "outputId": "934fde2a-94aa-4f8c-b86b-0d76e3739577",
        "colab": {
          "base_uri": "https://localhost:8080/",
          "height": 672
        }
      },
      "source": [
        "unique_frequent_words_ck = []\n",
        "for word in frequent_top_200_words_ck:\n",
        "  if (word not in frequent_top_200_words_technology) and (word not in frequent_top_200_words_tv) and (word not in frequent_top_200_words_literature):\n",
        "    unique_frequent_words_ck.append(word)\n",
        "unique_frequent_words_ck"
      ],
      "execution_count": 31,
      "outputs": [
        {
          "output_type": "execute_result",
          "data": {
            "text/plain": [
              "['food',\n",
              " 'eat',\n",
              " 'beer',\n",
              " 'water',\n",
              " 'tea',\n",
              " 'meat',\n",
              " 'cheese',\n",
              " 'drink',\n",
              " 'chicken',\n",
              " 'place',\n",
              " 'eating',\n",
              " 'restaurant',\n",
              " 'taste',\n",
              " 'animals',\n",
              " 'pizza',\n",
              " 'cook',\n",
              " 'mom',\n",
              " 'My',\n",
              " 'high',\n",
              " 'sauce',\n",
              " 'fat',\n",
              " 'bread',\n",
              " 'restaurants',\n",
              " 'hot',\n",
              " 'burger',\n",
              " 'money',\n",
              " 'drinking',\n",
              " 'cooking',\n",
              " 'small',\n",
              " 'places',\n",
              " 'buffets',\n",
              " 'cheap',\n",
              " 'tastes',\n",
              " 'fast',\n",
              " 'fried',\n",
              " 'favorite',\n",
              " 'milk',\n",
              " 'buffet',\n",
              " 'butter']"
            ]
          },
          "metadata": {
            "tags": []
          },
          "execution_count": 31
        }
      ]
    },
    {
      "cell_type": "code",
      "metadata": {
        "id": "N5I3a4hl2OWE",
        "colab_type": "code",
        "outputId": "36291470-45d1-4f1e-87f6-67f093447627",
        "colab": {
          "base_uri": "https://localhost:8080/",
          "height": 655
        }
      },
      "source": [
        "unique_frequent_words_tv = []\n",
        "for word in frequent_top_200_words_tv:\n",
        "  if (word not in frequent_top_200_words_technology) and (word not in frequent_top_200_words_literature) and (word not in frequent_top_200_words_ck):\n",
        "    unique_frequent_words_tv.append(word)\n",
        "unique_frequent_words_tv"
      ],
      "execution_count": 32,
      "outputs": [
        {
          "output_type": "execute_result",
          "data": {
            "text/plain": [
              "['movie',\n",
              " 'film',\n",
              " 'show',\n",
              " 'watch',\n",
              " 'movies',\n",
              " 'episode',\n",
              " 'kino',\n",
              " 'scene',\n",
              " 'character',\n",
              " 'girl',\n",
              " 'IQ',\n",
              " 'us',\n",
              " 'dude',\n",
              " 'She',\n",
              " 'shes',\n",
              " 'films',\n",
              " 'yeah',\n",
              " 'woman',\n",
              " 'nigger',\n",
              " 'next',\n",
              " 'girls',\n",
              " 'year',\n",
              " 'italian',\n",
              " 'lol',\n",
              " 'watching',\n",
              " 'funny',\n",
              " 'gon',\n",
              " 'face',\n",
              " 'seen',\n",
              " 'done',\n",
              " 'wasnt',\n",
              " 'hate',\n",
              " 'came',\n",
              " 'Doctor',\n",
              " 'retard',\n",
              " 'gets',\n",
              " 'watched',\n",
              " 'kid']"
            ]
          },
          "metadata": {
            "tags": []
          },
          "execution_count": 32
        }
      ]
    },
    {
      "cell_type": "code",
      "metadata": {
        "id": "S6g_TCSr87tN",
        "colab_type": "code",
        "colab": {
          "base_uri": "https://localhost:8080/",
          "height": 34
        },
        "outputId": "d6b89f40-fe50-4c02-e746-ac7e51d469f0"
      },
      "source": [
        "'''\n",
        "Classification Model\n",
        "'''"
      ],
      "execution_count": 33,
      "outputs": [
        {
          "output_type": "execute_result",
          "data": {
            "text/plain": [
              "'\\nClassification Model\\n'"
            ]
          },
          "metadata": {
            "tags": []
          },
          "execution_count": 33
        }
      ]
    },
    {
      "cell_type": "code",
      "metadata": {
        "id": "zSVEc4uPLty3",
        "colab_type": "code",
        "colab": {
          "base_uri": "https://localhost:8080/",
          "height": 50
        },
        "outputId": "5b8baa92-d4e0-4076-a6ea-1e82a1589912"
      },
      "source": [
        "from sklearn.feature_extraction.text import CountVectorizer\n",
        "from nltk.tokenize import RegexpTokenizer\n",
        "from sklearn.model_selection import train_test_split\n",
        "#tokenizer to remove unwanted elements from out data like symbols and numbers\n",
        "token = RegexpTokenizer(r'[a-zA-Z0-9]+')\n",
        "cv = CountVectorizer(lowercase=True,stop_words='english',ngram_range = (1,1),tokenizer = token.tokenize)\n",
        "print (len(technology_comments))\n",
        "y_labels = [0 for i in range(len(literature_comments))]\n",
        "y_labels = y_labels + [1 for i in range(len(technology_comments))]\n",
        "y_labels = y_labels + [2 for i in range(len(ck_comments))]\n",
        "y_labels = y_labels + [3 for i in range(len(tv_comments))]\n",
        "print (len(y_labels))\n",
        "all_comments=literature_comments+technology_comments+ck_comments+tv_comments\n",
        "text_counts= cv.fit_transform(all_comments)\n",
        "X_train, X_test, y_train, y_test = train_test_split(\n",
        "    text_counts, y_labels, test_size=0.3, random_state=15)\n",
        "\n",
        "\n"
      ],
      "execution_count": 34,
      "outputs": [
        {
          "output_type": "stream",
          "text": [
            "5528\n",
            "17527\n"
          ],
          "name": "stdout"
        }
      ]
    },
    {
      "cell_type": "code",
      "metadata": {
        "id": "Zpnf1EqoO7H6",
        "colab_type": "code",
        "colab": {
          "base_uri": "https://localhost:8080/",
          "height": 34
        },
        "outputId": "52c027b9-e293-4340-e35f-fa09dec8366e"
      },
      "source": [
        "from sklearn.naive_bayes import MultinomialNB\n",
        "from sklearn import metrics\n",
        "clf = MultinomialNB().fit(X_train, y_train)\n",
        "predicted= clf.predict(X_test)\n",
        "print(\"MultinomialNB Accuracy:\",metrics.accuracy_score(y_test, predicted))"
      ],
      "execution_count": 35,
      "outputs": [
        {
          "output_type": "stream",
          "text": [
            "MultinomialNB Accuracy: 0.6805476326297776\n"
          ],
          "name": "stdout"
        }
      ]
    },
    {
      "cell_type": "code",
      "metadata": {
        "id": "qZMB990XKcMR",
        "colab_type": "code",
        "colab": {}
      },
      "source": [
        ""
      ],
      "execution_count": 0,
      "outputs": []
    }
  ]
}